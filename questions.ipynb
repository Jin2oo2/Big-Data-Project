{
 "cells": [
  {
   "cell_type": "code",
   "execution_count": 1,
   "metadata": {},
   "outputs": [
    {
     "name": "stderr",
     "output_type": "stream",
     "text": [
      "/Users/jintanoda/Desktop/Big-Data/venv/lib/python3.10/site-packages/dask/dataframe/__init__.py:31: FutureWarning: \n",
      "Dask dataframe query planning is disabled because dask-expr is not installed.\n",
      "\n",
      "You can install it with `pip install dask[dataframe]` or `conda install dask`.\n",
      "This will raise in a future version.\n",
      "\n",
      "  warnings.warn(msg, FutureWarning)\n"
     ]
    },
    {
     "ename": "ImportError",
     "evalue": "Dask dataframe requirements are not installed.\n\nPlease either conda or pip install as follows:\n\n  conda install dask                     # either conda install\n  python -m pip install \"dask[dataframe]\" --upgrade  # or python -m pip install",
     "output_type": "error",
     "traceback": [
      "\u001b[0;31m---------------------------------------------------------------------------\u001b[0m",
      "\u001b[0;31mModuleNotFoundError\u001b[0m                       Traceback (most recent call last)",
      "File \u001b[0;32m~/Desktop/Big-Data/venv/lib/python3.10/site-packages/dask/dataframe/__init__.py:97\u001b[0m\n\u001b[1;32m     96\u001b[0m \u001b[38;5;28;01mif\u001b[39;00m _dask_expr_enabled():\n\u001b[0;32m---> 97\u001b[0m     \u001b[38;5;28;01mimport\u001b[39;00m \u001b[38;5;21;01mdask_expr\u001b[39;00m \u001b[38;5;28;01mas\u001b[39;00m \u001b[38;5;21;01mdd\u001b[39;00m\n\u001b[1;32m     99\u001b[0m     \u001b[38;5;66;03m# trigger loading of dask-expr which will in-turn import dask.dataframe and run remainder\u001b[39;00m\n\u001b[1;32m    100\u001b[0m     \u001b[38;5;66;03m# of this module's init updating attributes to be dask-expr\u001b[39;00m\n\u001b[1;32m    101\u001b[0m     \u001b[38;5;66;03m# note: needs reload, in case dask-expr imported before dask.dataframe; works fine otherwise\u001b[39;00m\n",
      "\u001b[0;31mModuleNotFoundError\u001b[0m: No module named 'dask_expr'",
      "\nThe above exception was the direct cause of the following exception:\n",
      "\u001b[0;31mImportError\u001b[0m                               Traceback (most recent call last)",
      "Cell \u001b[0;32mIn[1], line 3\u001b[0m\n\u001b[1;32m      1\u001b[0m \u001b[38;5;66;03m# Import Modules\u001b[39;00m\n\u001b[1;32m      2\u001b[0m \u001b[38;5;28;01mimport\u001b[39;00m \u001b[38;5;21;01mpandas\u001b[39;00m \u001b[38;5;28;01mas\u001b[39;00m \u001b[38;5;21;01mpd\u001b[39;00m\n\u001b[0;32m----> 3\u001b[0m \u001b[38;5;28;01mimport\u001b[39;00m \u001b[38;5;21;01mdask\u001b[39;00m\u001b[38;5;21;01m.\u001b[39;00m\u001b[38;5;21;01mdataframe\u001b[39;00m \u001b[38;5;28;01mas\u001b[39;00m \u001b[38;5;21;01mdd\u001b[39;00m\n\u001b[1;32m      4\u001b[0m \u001b[38;5;28;01mimport\u001b[39;00m \u001b[38;5;21;01mnumpy\u001b[39;00m \u001b[38;5;28;01mas\u001b[39;00m \u001b[38;5;21;01mnp\u001b[39;00m\n\u001b[1;32m      5\u001b[0m \u001b[38;5;28;01mimport\u001b[39;00m \u001b[38;5;21;01mmatplotlib\u001b[39;00m\u001b[38;5;21;01m.\u001b[39;00m\u001b[38;5;21;01mpyplot\u001b[39;00m \u001b[38;5;28;01mas\u001b[39;00m \u001b[38;5;21;01mplt\u001b[39;00m\n",
      "File \u001b[0;32m~/Desktop/Big-Data/venv/lib/python3.10/site-packages/dask/dataframe/__init__.py:110\u001b[0m\n\u001b[1;32m    103\u001b[0m \u001b[38;5;28;01mexcept\u001b[39;00m \u001b[38;5;167;01mImportError\u001b[39;00m \u001b[38;5;28;01mas\u001b[39;00m e:\n\u001b[1;32m    104\u001b[0m     msg \u001b[38;5;241m=\u001b[39m (\n\u001b[1;32m    105\u001b[0m         \u001b[38;5;124m\"\u001b[39m\u001b[38;5;124mDask dataframe requirements are not installed.\u001b[39m\u001b[38;5;130;01m\\n\u001b[39;00m\u001b[38;5;130;01m\\n\u001b[39;00m\u001b[38;5;124m\"\u001b[39m\n\u001b[1;32m    106\u001b[0m         \u001b[38;5;124m\"\u001b[39m\u001b[38;5;124mPlease either conda or pip install as follows:\u001b[39m\u001b[38;5;130;01m\\n\u001b[39;00m\u001b[38;5;130;01m\\n\u001b[39;00m\u001b[38;5;124m\"\u001b[39m\n\u001b[1;32m    107\u001b[0m         \u001b[38;5;124m\"\u001b[39m\u001b[38;5;124m  conda install dask                     # either conda install\u001b[39m\u001b[38;5;130;01m\\n\u001b[39;00m\u001b[38;5;124m\"\u001b[39m\n\u001b[1;32m    108\u001b[0m         \u001b[38;5;124m'\u001b[39m\u001b[38;5;124m  python -m pip install \u001b[39m\u001b[38;5;124m\"\u001b[39m\u001b[38;5;124mdask[dataframe]\u001b[39m\u001b[38;5;124m\"\u001b[39m\u001b[38;5;124m --upgrade  # or python -m pip install\u001b[39m\u001b[38;5;124m'\u001b[39m\n\u001b[1;32m    109\u001b[0m     )\n\u001b[0;32m--> 110\u001b[0m     \u001b[38;5;28;01mraise\u001b[39;00m \u001b[38;5;167;01mImportError\u001b[39;00m(msg) \u001b[38;5;28;01mfrom\u001b[39;00m \u001b[38;5;21;01me\u001b[39;00m\n\u001b[1;32m    113\u001b[0m \u001b[38;5;28;01mif\u001b[39;00m _dask_expr_enabled():\n\u001b[1;32m    114\u001b[0m     \u001b[38;5;28;01mtry\u001b[39;00m:\n",
      "\u001b[0;31mImportError\u001b[0m: Dask dataframe requirements are not installed.\n\nPlease either conda or pip install as follows:\n\n  conda install dask                     # either conda install\n  python -m pip install \"dask[dataframe]\" --upgrade  # or python -m pip install"
     ]
    }
   ],
   "source": [
    "# Import Modules\n",
    "import pandas as pd\n",
    "import dask.dataframe as dd\n",
    "import numpy as np\n",
    "import matplotlib.pyplot as plt\n",
    "import plotly.express as px\n",
    "from dask.distributed import Client, progress\n",
    "from sklearn.linear_model import LinearRegression\n",
    "from sklearn.ensemble import RandomForestClassifier\n",
    "from dask_ml.model_selection import train_test_split\n",
    "import time\n"
   ]
  },
  {
   "cell_type": "code",
   "execution_count": 31,
   "metadata": {},
   "outputs": [],
   "source": [
    "# Specify Data Types of Columns\n",
    "col_type = {\n",
    "    'Level': 'str',\n",
    "    'Date': 'str',\n",
    "    'State FIPS': 'str',\n",
    "    'State Postal Code': 'str',\n",
    "    'County FIPS': 'str',\n",
    "    'County Name': 'str',\n",
    "    'Population Staying at Home': 'float64',\n",
    "    'Population Not Staying at Home': 'float64',\n",
    "    'Number of Trips': 'float64',\n",
    "    'Number of Trips <1': 'float64',\n",
    "    'Number of Trips 1-3': 'float64',\n",
    "    'Number of Trips 3-5': 'float64',\n",
    "    'Number of Trips 5-10': 'float64',\n",
    "    'Number of Trips 10-25': 'float64',\n",
    "    'Number of Trips 25-50': 'float64',\n",
    "    'Number of Trips 50-100': 'float64',\n",
    "    'Number of Trips 100-250': 'float64',\n",
    "    'Number of Trips 250-500': 'float64',\n",
    "    'Number of Trips >=500': 'float64',\n",
    "    'Row ID': 'str',\n",
    "    'Week': 'int64',\n",
    "    'Month': 'int64'\n",
    "}\n",
    "\n",
    "# Loading datasets to dataframes\n",
    "trips_by_distance = pd.read_csv(\"Trips_by_Distance.csv\")\n",
    "trips_full = pd.read_csv(\"Trips_Full Data.csv\")\n",
    "trips_by_distance_dask = dd.read_csv(\"Trips_by_Distance.csv\", blocksize=\"20MB\", dtype=col_type)"
   ]
  },
  {
   "cell_type": "code",
   "execution_count": 32,
   "metadata": {},
   "outputs": [],
   "source": [
    "# Data cleaning\n",
    "def clean_dateframe(df , df_type):\n",
    "    if df_type == \"pd\":\n",
    "        # Remove rows with any empty cells\n",
    "        df.dropna(inplace=True)\n",
    "        # Remove duplicates\n",
    "        df.drop_duplicates(keep=\"first\", inplace=True)\n",
    "        # Remove columns cotaining only Na\n",
    "        df.dropna(axis=\"columns\", how=\"all\", inplace=True)\n",
    "    elif df_type == \"dd\":\n",
    "        df = df.dropna()\n",
    "        df = df.drop_duplicates(keep=\"first\")\n",
    "        df = df.map_partitions(lambda df: df.dropna(axis='columns', how='all'), meta=df)\n",
    "    else:\n",
    "        return \"Invalid dataframe type\"\n",
    "    \n",
    "    return df\n",
    "\n",
    "\n",
    "def convert_to_date(df, df_type):\n",
    "    if df_type == \"pd\":\n",
    "        df[\"Date\"] = pd.to_datetime(df['Date'], errors='coerce')\n",
    "    elif df_type == \"dd\":\n",
    "        df[\"Date\"] = dd.to_datetime(df[\"Date\"], errors='coerce')\n",
    "    else:\n",
    "        return (\"Invalid dateframe type\")\n",
    "    \n",
    "    df['Date'] = df['Date'].dt.strftime('%m/%d/%Y')\n",
    "    return df\n",
    " \n",
    "trips_by_distance = clean_dateframe(trips_by_distance, \"pd\")\n",
    "trips_full = clean_dateframe(trips_full, \"pd\")\n",
    "trips_by_distance_dask = clean_dateframe(trips_by_distance_dask, \"dd\")\n",
    "\n",
    "trips_by_distance = convert_to_date(trips_by_distance, \"pd\")\n",
    "trips_full = convert_to_date(trips_full, \"pd\")\n",
    "trips_by_distance_dask = convert_to_date(trips_by_distance_dask, \"dd\")"
   ]
  },
  {
   "cell_type": "code",
   "execution_count": 33,
   "metadata": {},
   "outputs": [
    {
     "name": "stdout",
     "output_type": "stream",
     "text": [
      "988773\n",
      "988773\n"
     ]
    }
   ],
   "source": [
    "print(len(trips_by_distance))\n",
    "print(len(trips_by_distance_dask))"
   ]
  },
  {
   "cell_type": "code",
   "execution_count": 44,
   "metadata": {},
   "outputs": [
    {
     "name": "stdout",
     "output_type": "stream",
     "text": [
      "Types of columns:\n",
      "Level                              object\n",
      "Date                               object\n",
      "State FIPS                        float64\n",
      "State Postal Code                  object\n",
      "County FIPS                       float64\n",
      "County Name                        object\n",
      "Population Staying at Home        float64\n",
      "Population Not Staying at Home    float64\n",
      "Number of Trips                   float64\n",
      "Number of Trips <1                float64\n",
      "Number of Trips 1-3               float64\n",
      "Number of Trips 3-5               float64\n",
      "Number of Trips 5-10              float64\n",
      "Number of Trips 10-25             float64\n",
      "Number of Trips 25-50             float64\n",
      "Number of Trips 50-100            float64\n",
      "Number of Trips 100-250           float64\n",
      "Number of Trips 250-500           float64\n",
      "Number of Trips >=500             float64\n",
      "Row ID                             object\n",
      "Week                                int64\n",
      "Month                               int64\n",
      "dtype: object\n",
      "Number of null: Level                             0\n",
      "Date                              0\n",
      "State FIPS                        0\n",
      "State Postal Code                 0\n",
      "County FIPS                       0\n",
      "County Name                       0\n",
      "Population Staying at Home        0\n",
      "Population Not Staying at Home    0\n",
      "Number of Trips                   0\n",
      "Number of Trips <1                0\n",
      "Number of Trips 1-3               0\n",
      "Number of Trips 3-5               0\n",
      "Number of Trips 5-10              0\n",
      "Number of Trips 10-25             0\n",
      "Number of Trips 25-50             0\n",
      "Number of Trips 50-100            0\n",
      "Number of Trips 100-250           0\n",
      "Number of Trips 250-500           0\n",
      "Number of Trips >=500             0\n",
      "Row ID                            0\n",
      "Week                              0\n",
      "Month                             0\n",
      "dtype: int64\n",
      "          State FIPS    County FIPS  Population Staying at Home  \\\n",
      "count  988773.000000  988773.000000                9.887730e+05   \n",
      "mean       30.289505   30393.079207                2.029515e+04   \n",
      "std        15.149730   15167.953957                6.764848e+04   \n",
      "min         1.000000    1001.000000                8.000000e+00   \n",
      "25%        18.000000   18175.000000                1.989000e+03   \n",
      "50%        29.000000   29159.000000                4.572000e+03   \n",
      "75%        45.000000   45083.000000                1.267500e+04   \n",
      "max        56.000000   56045.000000                2.393861e+06   \n",
      "\n",
      "       Population Not Staying at Home  Number of Trips  Number of Trips <1  \\\n",
      "count                    9.887730e+05     9.887730e+05        9.887730e+05   \n",
      "mean                     8.546477e+04     4.359392e+05        1.044420e+05   \n",
      "std                      2.688848e+05     1.389614e+06        3.694014e+05   \n",
      "min                      8.700000e+01     2.200000e+02        0.000000e+00   \n",
      "25%                      9.330000e+03     4.752500e+04        1.001300e+04   \n",
      "50%                      2.170900e+04     1.116990e+05        2.367500e+04   \n",
      "75%                      5.737200e+04     2.955030e+05        6.331300e+04   \n",
      "max                      8.438015e+06     5.450759e+07        1.477976e+07   \n",
      "\n",
      "       Number of Trips 1-3  Number of Trips 3-5  Number of Trips 5-10  \\\n",
      "count         9.887730e+05         9.887730e+05          9.887730e+05   \n",
      "mean          1.107266e+05         5.404208e+04          6.856607e+04   \n",
      "std           3.515336e+05         1.712873e+05          2.208342e+05   \n",
      "min           0.000000e+00         0.000000e+00          0.000000e+00   \n",
      "25%           1.079700e+04         4.502000e+03          6.118000e+03   \n",
      "50%           2.811700e+04         1.275400e+04          1.568600e+04   \n",
      "75%           7.793500e+04         3.740000e+04          4.405900e+04   \n",
      "max           1.604471e+07         7.175390e+06          8.268313e+06   \n",
      "\n",
      "       Number of Trips 10-25  Number of Trips 25-50  Number of Trips 50-100  \\\n",
      "count           9.887730e+05           9.887730e+05           988773.000000   \n",
      "mean            6.752125e+04           2.092765e+04             6104.757961   \n",
      "std             2.115287e+05           5.698574e+04            14793.206053   \n",
      "min             0.000000e+00           0.000000e+00                0.000000   \n",
      "25%             7.627000e+03           3.701000e+03             1188.000000   \n",
      "50%             1.794000e+04           7.826000e+03             2544.000000   \n",
      "75%             4.548600e+04           1.786300e+04             5708.000000   \n",
      "max             7.590739e+06           2.117534e+06           577839.000000   \n",
      "\n",
      "       Number of Trips 100-250  Number of Trips 250-500  \\\n",
      "count            988773.000000            988773.000000   \n",
      "mean               2344.773921               567.801517   \n",
      "std                5949.027279              1677.951234   \n",
      "min                   0.000000                 0.000000   \n",
      "25%                 346.000000                55.000000   \n",
      "50%                 796.000000               158.000000   \n",
      "75%                1981.000000               439.000000   \n",
      "max              256441.000000             62278.000000   \n",
      "\n",
      "       Number of Trips >=500           Week          Month  \n",
      "count          988773.000000  988773.000000  988773.000000  \n",
      "mean              696.256546      21.520953       5.532849  \n",
      "std              2719.436625      12.258311       2.808369  \n",
      "min                 0.000000       0.000000       1.000000  \n",
      "25%                26.000000      11.000000       3.000000  \n",
      "50%                88.000000      22.000000       6.000000  \n",
      "75%               329.000000      32.000000       8.000000  \n",
      "max            204712.000000      44.000000      11.000000  \n",
      "Types of columns:\n",
      "Month of Date                 object\n",
      "Week of Date                  object\n",
      "Year of Date                   int64\n",
      "Level                         object\n",
      "Date                          object\n",
      "Week Ending Date              object\n",
      "Trips <1 Mile                  int64\n",
      "People Not Staying at Home     int64\n",
      "Population Staying at Home     int64\n",
      "Trips                          int64\n",
      "Trips 1-25 Miles               int64\n",
      "Trips 1-3 Miles                int64\n",
      "Trips 10-25 Miles              int64\n",
      "Trips 100-250 Miles            int64\n",
      "Trips 100+ Miles               int64\n",
      "Trips 25-100 Miles             int64\n",
      "Trips 25-50 Miles              int64\n",
      "Trips 250-500 Miles            int64\n",
      "Trips 3-5 Miles                int64\n",
      "Trips 5-10 Miles               int64\n",
      "Trips 50-100 Miles             int64\n",
      "Trips 500+ Miles               int64\n",
      "dtype: object\n",
      "Number of null: Month of Date                 0\n",
      "Week of Date                  0\n",
      "Year of Date                  0\n",
      "Level                         0\n",
      "Date                          0\n",
      "Week Ending Date              0\n",
      "Trips <1 Mile                 0\n",
      "People Not Staying at Home    0\n",
      "Population Staying at Home    0\n",
      "Trips                         0\n",
      "Trips 1-25 Miles              0\n",
      "Trips 1-3 Miles               0\n",
      "Trips 10-25 Miles             0\n",
      "Trips 100-250 Miles           0\n",
      "Trips 100+ Miles              0\n",
      "Trips 25-100 Miles            0\n",
      "Trips 25-50 Miles             0\n",
      "Trips 250-500 Miles           0\n",
      "Trips 3-5 Miles               0\n",
      "Trips 5-10 Miles              0\n",
      "Trips 50-100 Miles            0\n",
      "Trips 500+ Miles              0\n",
      "dtype: int64\n",
      "       Year of Date  Trips <1 Mile  People Not Staying at Home  \\\n",
      "count           7.0   7.000000e+00                7.000000e+00   \n",
      "mean         2019.0   3.259764e+08                2.631041e+08   \n",
      "std             0.0   2.424507e+07                5.029890e+06   \n",
      "min          2019.0   2.929597e+08                2.584041e+08   \n",
      "25%          2019.0   3.089499e+08                2.594875e+08   \n",
      "50%          2019.0   3.244432e+08                2.621998e+08   \n",
      "75%          2019.0   3.440244e+08                2.650241e+08   \n",
      "max          2019.0   3.584830e+08                2.721014e+08   \n",
      "\n",
      "       Population Staying at Home         Trips  Trips 1-25 Miles  \\\n",
      "count                7.000000e+00  7.000000e+00      7.000000e+00   \n",
      "mean                 6.306337e+07  1.441692e+09      1.015555e+09   \n",
      "std                  5.029890e+06  7.644026e+07      4.935492e+07   \n",
      "min                  5.406600e+07  1.322685e+09      9.349578e+08   \n",
      "25%                  6.114337e+07  1.397305e+09      9.905281e+08   \n",
      "50%                  6.396766e+07  1.437762e+09      1.014614e+09   \n",
      "75%                  6.667995e+07  1.496538e+09      1.046881e+09   \n",
      "max                  6.776329e+07  1.543710e+09      1.084498e+09   \n",
      "\n",
      "       Trips 1-3 Miles  Trips 10-25 Miles  Trips 100-250 Miles  \\\n",
      "count     7.000000e+00       7.000000e+00         7.000000e+00   \n",
      "mean      3.694767e+08       2.310785e+08         6.850130e+06   \n",
      "std       2.061755e+07       1.595993e+07         1.117810e+06   \n",
      "min       3.465773e+08       2.009223e+08         5.379881e+06   \n",
      "25%       3.529333e+08       2.274326e+08         6.126720e+06   \n",
      "50%       3.665340e+08       2.305803e+08         6.535920e+06   \n",
      "75%       3.829423e+08       2.405966e+08         7.592922e+06   \n",
      "max       4.014740e+08       2.499887e+08         8.595827e+06   \n",
      "\n",
      "       Trips 100+ Miles  Trips 25-100 Miles  Trips 25-50 Miles  \\\n",
      "count      7.000000e+00        7.000000e+00       7.000000e+00   \n",
      "mean       1.212247e+07        8.803745e+07       6.915913e+07   \n",
      "std        2.045473e+06        5.376956e+06       5.147182e+06   \n",
      "min        8.528574e+06        7.942912e+07       5.951719e+07   \n",
      "25%        1.163900e+07        8.509894e+07       6.745464e+07   \n",
      "50%        1.225654e+07        8.759958e+07       7.014917e+07   \n",
      "75%        1.272771e+07        9.201497e+07       7.251285e+07   \n",
      "max        1.533879e+07        9.500565e+07       7.451258e+07   \n",
      "\n",
      "       Trips 250-500 Miles  Trips 3-5 Miles  Trips 5-10 Miles  \\\n",
      "count         7.000000e+00     7.000000e+00      7.000000e+00   \n",
      "mean          1.829242e+06     1.815558e+08      2.334445e+08   \n",
      "std           3.015761e+05     6.145471e+06      9.185330e+06   \n",
      "min           1.272248e+06     1.713364e+08      2.161219e+08   \n",
      "25%           1.768012e+06     1.791034e+08      2.309911e+08   \n",
      "50%           1.823661e+06     1.793462e+08      2.332487e+08   \n",
      "75%           1.949574e+06     1.864191e+08      2.394431e+08   \n",
      "max           2.273613e+06     1.891633e+08      2.438723e+08   \n",
      "\n",
      "       Trips 50-100 Miles  Trips 500+ Miles  \n",
      "count        7.000000e+00      7.000000e+00  \n",
      "mean         1.887832e+07      3.443101e+06  \n",
      "std          1.595080e+06      1.019597e+06  \n",
      "min          1.745041e+07      1.876445e+06  \n",
      "25%          1.764403e+07      2.813090e+06  \n",
      "50%          1.781955e+07      3.369125e+06  \n",
      "75%          2.020250e+07      4.277617e+06  \n",
      "max          2.118523e+07      4.674725e+06  \n"
     ]
    }
   ],
   "source": [
    "# Data Processing\n",
    "def data_processing(df):\n",
    "    # show types of columns\n",
    "    print(f\"Types of columns:\\n{df.dtypes}\")\n",
    "    # count non-null\n",
    "    print(f\"Number of null: {df.isna().sum()}\")\n",
    "    # compute descriptive statistics for the whole dataframe\n",
    "    print(df.describe())\n",
    "\n",
    "data_processing(trips_by_distance)\n",
    "data_processing(trips_full)\n"
   ]
  },
  {
   "cell_type": "code",
   "execution_count": 46,
   "metadata": {},
   "outputs": [
    {
     "name": "stdout",
     "output_type": "stream",
     "text": [
      "45\n",
      "Week\n",
      "0     20976.786952\n",
      "1     20071.310863\n",
      "2     19897.342408\n",
      "3     19889.436675\n",
      "4     20096.313462\n",
      "5     19757.425989\n",
      "6     19599.069548\n",
      "7     20033.597170\n",
      "8     19741.670867\n",
      "9     20043.095149\n",
      "10    19826.900589\n",
      "11    20264.390629\n",
      "12    20632.226251\n",
      "13    20792.383279\n",
      "14    21064.024586\n",
      "15    21375.296433\n",
      "16    20066.291118\n",
      "17    19666.744804\n",
      "18    20020.237718\n",
      "19    19679.550872\n",
      "20    19881.386992\n",
      "21    20060.819541\n",
      "22    19897.745108\n",
      "23    20503.628696\n",
      "24    20571.770526\n",
      "25    20088.389972\n",
      "26    20823.985153\n",
      "27    20249.929104\n",
      "28    20038.482247\n",
      "29    20758.966759\n",
      "30    20662.342080\n",
      "31    20285.019485\n",
      "32    19052.686234\n",
      "33    18745.051412\n",
      "34    18890.033421\n",
      "35    20627.338011\n",
      "36    19918.284514\n",
      "37    20077.207573\n",
      "38    20648.268011\n",
      "39    21323.439768\n",
      "40    21132.913589\n",
      "41    21656.941398\n",
      "42    21958.423366\n",
      "43    21998.566027\n",
      "44     7465.212121\n",
      "Name: Population Staying at Home, dtype: float64\n"
     ]
    }
   ],
   "source": [
    "# Data categorization\n",
    "\n",
    "# Count the unique values for the \"week\" column \n",
    "print(trips_by_distance['Week'].nunique())\n",
    "# Group the average Population Staying at Home per week\n",
    "print(trips_by_distance.groupby(by = 'Week')['Population Staying at Home'].mean())"
   ]
  },
  {
   "cell_type": "code",
   "execution_count": 35,
   "metadata": {},
   "outputs": [
    {
     "name": "stdout",
     "output_type": "stream",
     "text": [
      "Number of weeks 45\n"
     ]
    },
    {
     "data": {
      "image/png": "[encoded data removed]",
      "text/plain": [
       "<Figure size 640x480 with 1 Axes>"
      ]
     },
     "metadata": {},
     "output_type": "display_data"
    }
   ],
   "source": [
    "# Question 1 (a)\n",
    "def plot_avg_people_staying_home(df, df_type):\n",
    "    # Average number of people staying at home over the week\n",
    "    weeks = df[\"Week\"].nunique()\n",
    "    avg_num_people_staying_home = df.groupby(by=\"Week\")[\"Population Staying at Home\"].mean()\n",
    "\n",
    "    if df_type == 'pd':\n",
    "        print(f\"Number of weeks {weeks}\")\n",
    "        # Plot 'Average Number of People Staying at Home Per Week'\n",
    "        plt.plot(avg_num_people_staying_home, label='Average Number of People Staying at Home Per Week')\n",
    "        \n",
    "\n",
    "    elif df_type == 'dd':\n",
    "        print(f\"Number of weeks {weeks.compute()}\")\n",
    "        plt.plot(avg_num_people_staying_home.compute(), label='Average Number of People Staying at Home Per Week')\n",
    "\n",
    "    else:\n",
    "        return \"Invalid dataframe type\"\n",
    "    \n",
    "    plt.xlabel('Week')\n",
    "    plt.ylabel('Average Number of People Staying at home')\n",
    "    plt.legend()\n",
    "    plt.show()\n",
    "    plt.close()\n",
    "\n",
    "plot_avg_people_staying_home(trips_by_distance, \"pd\")"
   ]
  },
  {
   "cell_type": "code",
   "execution_count": 36,
   "metadata": {},
   "outputs": [
    {
     "data": {
      "image/png": "[encoded data removed]",
      "text/plain": [
       "<Figure size 640x480 with 1 Axes>"
      ]
     },
     "metadata": {},
     "output_type": "display_data"
    }
   ],
   "source": [
    "# Question 1 (a)\n",
    "# How far people are traveling\n",
    "def plot_how_far_people_travel():\n",
    "    cols = [\n",
    "        'Trips <1 Mile',\n",
    "        'Trips 1-3 Miles',\n",
    "        'Trips 3-5 Miles',\n",
    "        'Trips 5-10 Miles',\n",
    "        'Trips 10-25 Miles',\n",
    "        'Trips 25-50 Miles',\n",
    "        'Trips 50-100 Miles',\n",
    "        'Trips 100-250 Miles',\n",
    "        'Trips 250-500 Miles',\n",
    "        'Trips 500+ Miles'\n",
    "    ]\n",
    "\n",
    "    means = []\n",
    "    for i in range(len(cols)):\n",
    "        mean = trips_full.groupby(by = 'Week of Date')[cols[i]].mean()\n",
    "        means.append(mean.values[0])\n",
    "\n",
    "    # Bar 'Mean Values for Different Trip Distance'\n",
    "    plt.bar(cols, means, color='skyblue')\n",
    "    plt.title('Mean Values for Different Trip Distance', fontsize=14, fontweight='bold')\n",
    "    plt.xlabel('Trip Distance', fontsize=12, fontweight='bold')\n",
    "    plt.ylabel('Mean Value', fontsize=12, fontweight='bold')\n",
    "    plt.xticks(rotation=45, ha='right', fontsize=10)\n",
    "    plt.grid(True)\n",
    "    plt.tight_layout()\n",
    "    plt.show()      \n",
    "    plt.close()\n",
    "\n",
    "plot_how_far_people_travel()"
   ]
  },
  {
   "cell_type": "code",
   "execution_count": 37,
   "metadata": {},
   "outputs": [
    {
     "name": "stdout",
     "output_type": "stream",
     "text": [
      "Dates pepople conducted 10-25 number of trips Index(['01/01/2019', '01/02/2019', '01/03/2019', '01/04/2019', '01/05/2019',\n",
      "       '01/06/2019', '01/07/2019', '01/08/2019', '01/09/2019', '01/10/2019',\n",
      "       ...\n",
      "       '10/23/2019', '10/24/2019', '10/25/2019', '10/26/2019', '10/27/2019',\n",
      "       '10/28/2019', '10/29/2019', '10/30/2019', '10/31/2019', '11/01/2019'],\n",
      "      dtype='object', name='Date', length=319)\n",
      "Dates pepople conducted 50-100 number of trips Index(['01/01/2019', '01/02/2019', '01/03/2019', '01/04/2019', '01/05/2019',\n",
      "       '01/06/2019', '01/07/2019', '01/08/2019', '01/09/2019', '01/10/2019',\n",
      "       ...\n",
      "       '10/22/2019', '10/23/2019', '10/24/2019', '10/25/2019', '10/26/2019',\n",
      "       '10/27/2019', '10/28/2019', '10/29/2019', '10/30/2019', '10/31/2019'],\n",
      "      dtype='object', name='Date', length=318)\n"
     ]
    },
    {
     "data": {
      "application/vnd.plotly.v1+json": {
       "config": {
        "plotlyServerURL": "https://plot.ly"
       },
       "data": [
        {
         "hovertemplate": "x=%{x}<br>y=%{y}<extra></extra>",
         "legendgroup": "",
         "marker": {
          "color": "#636efa",
          "symbol": "circle"
         },
         "mode": "markers",
         "name": "",
         "orientation": "v",
         "showlegend": false,
         "type": "scatter",
         "x": [
          "01/01/2019",
          "01/02/2019",
          "01/03/2019",
          "01/04/2019",
          "01/05/2019",
          "01/06/2019",
          "01/07/2019",
          "01/08/2019",
          "01/09/2019",
          "01/10/2019",
          "01/11/2019",
          "01/12/2019",
          "01/13/2019",
          "01/14/2019",
          "01/15/2019",
          "01/16/2019",
          "01/17/2019",
          "01/18/2019",
          "01/19/2019",
          "01/20/2019",
          "01/21/2019",
          "01/22/2019",
          "01/23/2019",
          "01/24/2019",
          "01/25/2019",
          "01/26/2019",
          "01/27/2019",
          "01/28/2019",
          "01/29/2019",
          "01/30/2019",
          "01/31/2019",
          "02/01/2019",
          "02/02/2019",
          "02/03/2019",
          "02/04/2019",
          "02/05/2019",
          "02/06/2019",
          "02/07/2019",
          "02/08/2019",
          "02/09/2019",
          "02/10/2019",
          "02/11/2019",
          "02/12/2019",
          "02/13/2019",
          "02/14/2019",
          "02/15/2019",
          "02/16/2019",
          "02/17/2019",
          "02/18/2019",
          "02/19/2019",
          "02/20/2019",
          "02/21/2019",
          "02/22/2019",
          "02/23/2019",
          "02/24/2019",
          "02/25/2019",
          "02/26/2019",
          "02/27/2019",
          "02/28/2019",
          "03/01/2019",
          "03/02/2019",
          "03/03/2019",
          "03/04/2019",
          "03/05/2019",
          "03/06/2019",
          "03/07/2019",
          "03/08/2019",
          "03/09/2019",
          "03/10/2019",
          "03/11/2019",
          "03/12/2019",
          "03/13/2019",
          "03/14/2019",
          "03/15/2019",
          "03/16/2019",
          "03/17/2019",
          "03/18/2019",
          "03/19/2019",
          "03/20/2019",
          "03/21/2019",
          "03/22/2019",
          "03/23/2019",
          "03/24/2019",
          "03/25/2019",
          "03/26/2019",
          "03/27/2019",
          "03/28/2019",
          "03/29/2019",
          "03/30/2019",
          "03/31/2019",
          "04/01/2019",
          "04/02/2019",
          "04/03/2019",
          "04/04/2019",
          "04/05/2019",
          "04/06/2019",
          "04/07/2019",
          "04/08/2019",
          "04/09/2019",
          "04/10/2019",
          "04/11/2019",
          "04/12/2019",
          "04/13/2019",
          "04/14/2019",
          "04/15/2019",
          "04/16/2019",
          "04/17/2019",
          "04/18/2019",
          "04/19/2019",
          "04/20/2019",
          "04/21/2019",
          "04/22/2019",
          "04/23/2019",
          "04/24/2019",
          "04/25/2019",
          "04/26/2019",
          "04/27/2019",
          "04/28/2019",
          "04/29/2019",
          "04/30/2019",
          "05/01/2019",
          "05/02/2019",
          "05/03/2019",
          "05/04/2019",
          "05/05/2019",
          "05/06/2019",
          "05/07/2019",
          "05/08/2019",
          "05/09/2019",
          "05/10/2019",
          "05/11/2019",
          "05/12/2019",
          "05/13/2019",
          "05/14/2019",
          "05/15/2019",
          "05/16/2019",
          "05/17/2019",
          "05/18/2019",
          "05/19/2019",
          "05/20/2019",
          "05/21/2019",
          "05/22/2019",
          "05/23/2019",
          "05/24/2019",
          "05/25/2019",
          "05/26/2019",
          "05/27/2019",
          "05/28/2019",
          "05/29/2019",
          "05/30/2019",
          "05/31/2019",
          "06/01/2019",
          "06/02/2019",
          "06/03/2019",
          "06/04/2019",
          "06/05/2019",
          "06/06/2019",
          "06/06/2021",
          "06/07/2019",
          "06/07/2021",
          "06/08/2019",
          "06/08/2021",
          "06/09/2019",
          "06/09/2021",
          "06/10/2019",
          "06/10/2021",
          "06/11/2019",
          "06/11/2021",
          "06/12/2019",
          "06/12/2021",
          "06/13/2019",
          "06/13/2021",
          "06/14/2019",
          "06/14/2021",
          "06/15/2019",
          "06/15/2021",
          "06/16/2019",
          "06/16/2021",
          "06/17/2019",
          "06/17/2021",
          "06/18/2019",
          "06/18/2021",
          "06/19/2019",
          "06/19/2021",
          "06/20/2019",
          "06/21/2019",
          "06/22/2019",
          "06/23/2019",
          "06/24/2019",
          "06/25/2019",
          "06/26/2019",
          "06/27/2019",
          "06/28/2019",
          "06/29/2019",
          "06/30/2019",
          "07/01/2019",
          "07/02/2019",
          "07/03/2019",
          "07/04/2019",
          "07/05/2019",
          "07/06/2019",
          "07/07/2019",
          "07/08/2019",
          "07/09/2019",
          "07/10/2019",
          "07/11/2019",
          "07/12/2019",
          "07/13/2019",
          "07/14/2019",
          "07/15/2019",
          "07/16/2019",
          "07/17/2019",
          "07/18/2019",
          "07/19/2019",
          "07/20/2019",
          "07/21/2019",
          "07/22/2019",
          "07/23/2019",
          "07/24/2019",
          "07/25/2019",
          "07/26/2019",
          "07/27/2019",
          "07/28/2019",
          "07/29/2019",
          "07/30/2019",
          "07/31/2019",
          "08/01/2019",
          "08/02/2019",
          "08/03/2019",
          "08/04/2019",
          "08/05/2019",
          "08/06/2019",
          "08/07/2019",
          "08/08/2019",
          "08/09/2019",
          "08/10/2019",
          "08/11/2019",
          "08/12/2019",
          "08/13/2019",
          "08/14/2019",
          "08/15/2019",
          "08/16/2019",
          "08/17/2019",
          "08/18/2019",
          "08/19/2019",
          "08/20/2019",
          "08/21/2019",
          "08/22/2019",
          "08/23/2019",
          "08/24/2019",
          "08/25/2019",
          "08/26/2019",
          "08/27/2019",
          "08/28/2019",
          "08/29/2019",
          "08/30/2019",
          "08/31/2019",
          "09/01/2019",
          "09/02/2019",
          "09/03/2019",
          "09/04/2019",
          "09/05/2019",
          "09/06/2019",
          "09/07/2019",
          "09/08/2019",
          "09/09/2019",
          "09/10/2019",
          "09/11/2019",
          "09/12/2019",
          "09/13/2019",
          "09/14/2019",
          "09/15/2019",
          "09/16/2019",
          "09/17/2019",
          "09/18/2019",
          "09/19/2019",
          "09/20/2019",
          "09/21/2019",
          "09/22/2019",
          "09/23/2019",
          "09/24/2019",
          "09/25/2019",
          "09/26/2019",
          "09/27/2019",
          "09/28/2019",
          "09/29/2019",
          "09/30/2019",
          "10/01/2019",
          "10/02/2019",
          "10/03/2019",
          "10/04/2019",
          "10/05/2019",
          "10/06/2019",
          "10/07/2019",
          "10/08/2019",
          "10/09/2019",
          "10/10/2019",
          "10/11/2019",
          "10/12/2019",
          "10/13/2019",
          "10/14/2019",
          "10/15/2019",
          "10/16/2019",
          "10/17/2019",
          "10/18/2019",
          "10/19/2019",
          "10/20/2019",
          "10/21/2019",
          "10/22/2019",
          "10/23/2019",
          "10/24/2019",
          "10/25/2019",
          "10/26/2019",
          "10/27/2019",
          "10/28/2019",
          "10/29/2019",
          "10/30/2019",
          "10/31/2019",
          "11/01/2019"
         ],
         "xaxis": "x",
         "y": [
          116901628,
          167408690,
          172023339,
          176140576,
          165235019,
          144087945,
          165174064,
          166318099,
          166164729,
          171164435,
          175846128,
          164946784,
          144144499,
          165992174,
          166781714,
          167444491,
          171744520,
          175933171,
          165175860,
          144093283,
          157958887,
          166699046,
          168618151,
          173159297,
          176639522,
          165581248,
          144026057,
          164351048,
          165478603,
          162428406,
          168597491,
          175617506,
          164713633,
          144856584,
          168265968,
          168797276,
          171924974,
          174121639,
          176856114,
          166483148,
          144492412,
          167223106,
          167075483,
          172802199,
          178089370,
          179457937,
          167415654,
          144355213,
          162252225,
          167530630,
          171009282,
          175352620,
          177964296,
          166677635,
          144476856,
          170168094,
          170195138,
          178381490,
          181269632,
          178092418,
          166861396,
          144443443,
          168696212,
          168265911,
          174066361,
          178236836,
          193910363,
          181101467,
          157702602,
          194290006,
          185980657,
          192986389,
          196734689,
          211655935,
          197341064,
          171637505,
          203575148,
          205002592,
          214569949,
          218046747,
          231318928,
          214960531,
          186352693,
          219110913,
          220664861,
          234816632,
          237186592,
          234169447,
          217084383,
          190138185,
          218390536,
          220195656,
          229546023,
          233554309,
          232674185,
          216125280,
          186146281,
          222128555,
          224596605,
          235789112,
          239320130,
          236982193,
          219544034,
          188661820,
          223892265,
          227051174,
          234668644,
          239523621,
          238329615,
          220850255,
          186354235,
          221478039,
          223956635,
          233342592,
          237483731,
          236016653,
          218850508,
          187061175,
          222513757,
          225214298,
          234610225,
          238786252,
          237122103,
          219765641,
          187367777,
          212869689,
          221296025,
          221229683,
          225674132,
          226720702,
          209027224,
          184781535,
          207192077,
          218502286,
          222004018,
          222325045,
          230025230,
          214250569,
          184102862,
          216036716,
          223534514,
          226717877,
          220840645,
          229086918,
          214837093,
          200284046,
          179090719,
          229181163,
          233225866,
          232783889,
          244281732,
          218796140,
          194721252,
          233008910,
          228795072,
          225332312,
          237862706,
          135811902,
          244355845,
          169235817,
          226062494,
          175319098,
          191294725,
          173472367,
          220453504,
          167184732,
          228424222,
          174510514,
          228666624,
          153509262,
          230200040,
          136273081,
          240284317,
          164788423,
          224640700,
          175216251,
          187159195,
          173281618,
          219535479,
          172944377,
          224238455,
          175863097,
          228033032,
          155499282,
          224447446,
          232332843,
          219381295,
          191305015,
          222764094,
          226599473,
          228808671,
          230794501,
          236823386,
          222480503,
          192986339,
          223187245,
          226577935,
          229890703,
          190660971,
          241572381,
          226569989,
          198841274,
          228347350,
          231825141,
          234352326,
          239576894,
          245539919,
          230541191,
          200982870,
          229589773,
          233684641,
          241333924,
          237942793,
          249046621,
          233830862,
          202993161,
          231826132,
          236014722,
          244646813,
          236213936,
          248199007,
          233474025,
          207085733,
          237131470,
          238801666,
          242672419,
          244719568,
          250075812,
          236071189,
          200904697,
          228789732,
          235602812,
          249968900,
          226041082,
          245555660,
          230558541,
          200989852,
          229590292,
          233681714,
          241330441,
          237941713,
          249059594,
          233841516,
          203015998,
          231858324,
          236048396,
          244676889,
          236243857,
          248238167,
          233509076,
          201633179,
          230074904,
          235105708,
          245317660,
          233401198,
          247609501,
          232615245,
          223087403,
          202434953,
          235174304,
          244434830,
          235022450,
          247992119,
          233062712,
          212589084,
          230649355,
          239756754,
          247123336,
          240242815,
          253033677,
          237768592,
          215168041,
          237176834,
          243786448,
          250109797,
          244776203,
          256487831,
          238914978,
          209251621,
          234127508,
          240774061,
          241781674,
          242190568,
          253231760,
          235481760,
          204412365,
          231372329,
          237831369,
          236797220,
          239449493,
          248994589,
          231307673,
          200101840,
          231597503,
          234586664,
          232684569,
          237654737,
          244924573,
          228552781,
          194498357,
          240197909,
          228741618,
          225431163,
          228830209,
          235122659,
          218416282,
          185936224,
          218770203,
          222093045,
          217718634,
          221843555,
          225088204,
          210933264,
          185290496,
          218429028,
          219920099,
          202434916,
          222299753,
          137038937
         ],
         "yaxis": "y"
        }
       ],
       "layout": {
        "legend": {
         "tracegroupgap": 0
        },
        "margin": {
         "t": 60
        },
        "template": {
         "data": {
          "bar": [
           {
            "error_x": {
             "color": "#2a3f5f"
            },
            "error_y": {
             "color": "#2a3f5f"
            },
            "marker": {
             "line": {
              "color": "#E5ECF6",
              "width": 0.5
             },
             "pattern": {
              "fillmode": "overlay",
              "size": 10,
              "solidity": 0.2
             }
            },
            "type": "bar"
           }
          ],
          "barpolar": [
           {
            "marker": {
             "line": {
              "color": "#E5ECF6",
              "width": 0.5
             },
             "pattern": {
              "fillmode": "overlay",
              "size": 10,
              "solidity": 0.2
             }
            },
            "type": "barpolar"
           }
          ],
          "carpet": [
           {
            "aaxis": {
             "endlinecolor": "#2a3f5f",
             "gridcolor": "white",
             "linecolor": "white",
             "minorgridcolor": "white",
             "startlinecolor": "#2a3f5f"
            },
            "baxis": {
             "endlinecolor": "#2a3f5f",
             "gridcolor": "white",
             "linecolor": "white",
             "minorgridcolor": "white",
             "startlinecolor": "#2a3f5f"
            },
            "type": "carpet"
           }
          ],
          "choropleth": [
           {
            "colorbar": {
             "outlinewidth": 0,
             "ticks": ""
            },
            "type": "choropleth"
           }
          ],
          "contour": [
           {
            "colorbar": {
             "outlinewidth": 0,
             "ticks": ""
            },
            "colorscale": [
             [
              0,
              "#0d0887"
             ],
             [
              0.1111111111111111,
              "#46039f"
             ],
             [
              0.2222222222222222,
              "#7201a8"
             ],
             [
              0.3333333333333333,
              "#9c179e"
             ],
             [
              0.4444444444444444,
              "#bd3786"
             ],
             [
              0.5555555555555556,
              "#d8576b"
             ],
             [
              0.6666666666666666,
              "#ed7953"
             ],
             [
              0.7777777777777778,
              "#fb9f3a"
             ],
             [
              0.8888888888888888,
              "#fdca26"
             ],
             [
              1,
              "#f0f921"
             ]
            ],
            "type": "contour"
           }
          ],
          "contourcarpet": [
           {
            "colorbar": {
             "outlinewidth": 0,
             "ticks": ""
            },
            "type": "contourcarpet"
           }
          ],
          "heatmap": [
           {
            "colorbar": {
             "outlinewidth": 0,
             "ticks": ""
            },
            "colorscale": [
             [
              0,
              "#0d0887"
             ],
             [
              0.1111111111111111,
              "#46039f"
             ],
             [
              0.2222222222222222,
              "#7201a8"
             ],
             [
              0.3333333333333333,
              "#9c179e"
             ],
             [
              0.4444444444444444,
              "#bd3786"
             ],
             [
              0.5555555555555556,
              "#d8576b"
             ],
             [
              0.6666666666666666,
              "#ed7953"
             ],
             [
              0.7777777777777778,
              "#fb9f3a"
             ],
             [
              0.8888888888888888,
              "#fdca26"
             ],
             [
              1,
              "#f0f921"
             ]
            ],
            "type": "heatmap"
           }
          ],
          "heatmapgl": [
           {
            "colorbar": {
             "outlinewidth": 0,
             "ticks": ""
            },
            "colorscale": [
             [
              0,
              "#0d0887"
             ],
             [
              0.1111111111111111,
              "#46039f"
             ],
             [
              0.2222222222222222,
              "#7201a8"
             ],
             [
              0.3333333333333333,
              "#9c179e"
             ],
             [
              0.4444444444444444,
              "#bd3786"
             ],
             [
              0.5555555555555556,
              "#d8576b"
             ],
             [
              0.6666666666666666,
              "#ed7953"
             ],
             [
              0.7777777777777778,
              "#fb9f3a"
             ],
             [
              0.8888888888888888,
              "#fdca26"
             ],
             [
              1,
              "#f0f921"
             ]
            ],
            "type": "heatmapgl"
           }
          ],
          "histogram": [
           {
            "marker": {
             "pattern": {
              "fillmode": "overlay",
              "size": 10,
              "solidity": 0.2
             }
            },
            "type": "histogram"
           }
          ],
          "histogram2d": [
           {
            "colorbar": {
             "outlinewidth": 0,
             "ticks": ""
            },
            "colorscale": [
             [
              0,
              "#0d0887"
             ],
             [
              0.1111111111111111,
              "#46039f"
             ],
             [
              0.2222222222222222,
              "#7201a8"
             ],
             [
              0.3333333333333333,
              "#9c179e"
             ],
             [
              0.4444444444444444,
              "#bd3786"
             ],
             [
              0.5555555555555556,
              "#d8576b"
             ],
             [
              0.6666666666666666,
              "#ed7953"
             ],
             [
              0.7777777777777778,
              "#fb9f3a"
             ],
             [
              0.8888888888888888,
              "#fdca26"
             ],
             [
              1,
              "#f0f921"
             ]
            ],
            "type": "histogram2d"
           }
          ],
          "histogram2dcontour": [
           {
            "colorbar": {
             "outlinewidth": 0,
             "ticks": ""
            },
            "colorscale": [
             [
              0,
              "#0d0887"
             ],
             [
              0.1111111111111111,
              "#46039f"
             ],
             [
              0.2222222222222222,
              "#7201a8"
             ],
             [
              0.3333333333333333,
              "#9c179e"
             ],
             [
              0.4444444444444444,
              "#bd3786"
             ],
             [
              0.5555555555555556,
              "#d8576b"
             ],
             [
              0.6666666666666666,
              "#ed7953"
             ],
             [
              0.7777777777777778,
              "#fb9f3a"
             ],
             [
              0.8888888888888888,
              "#fdca26"
             ],
             [
              1,
              "#f0f921"
             ]
            ],
            "type": "histogram2dcontour"
           }
          ],
          "mesh3d": [
           {
            "colorbar": {
             "outlinewidth": 0,
             "ticks": ""
            },
            "type": "mesh3d"
           }
          ],
          "parcoords": [
           {
            "line": {
             "colorbar": {
              "outlinewidth": 0,
              "ticks": ""
             }
            },
            "type": "parcoords"
           }
          ],
          "pie": [
           {
            "automargin": true,
            "type": "pie"
           }
          ],
          "scatter": [
           {
            "fillpattern": {
             "fillmode": "overlay",
             "size": 10,
             "solidity": 0.2
            },
            "type": "scatter"
           }
          ],
          "scatter3d": [
           {
            "line": {
             "colorbar": {
              "outlinewidth": 0,
              "ticks": ""
             }
            },
            "marker": {
             "colorbar": {
              "outlinewidth": 0,
              "ticks": ""
             }
            },
            "type": "scatter3d"
           }
          ],
          "scattercarpet": [
           {
            "marker": {
             "colorbar": {
              "outlinewidth": 0,
              "ticks": ""
             }
            },
            "type": "scattercarpet"
           }
          ],
          "scattergeo": [
           {
            "marker": {
             "colorbar": {
              "outlinewidth": 0,
              "ticks": ""
             }
            },
            "type": "scattergeo"
           }
          ],
          "scattergl": [
           {
            "marker": {
             "colorbar": {
              "outlinewidth": 0,
              "ticks": ""
             }
            },
            "type": "scattergl"
           }
          ],
          "scattermapbox": [
           {
            "marker": {
             "colorbar": {
              "outlinewidth": 0,
              "ticks": ""
             }
            },
            "type": "scattermapbox"
           }
          ],
          "scatterpolar": [
           {
            "marker": {
             "colorbar": {
              "outlinewidth": 0,
              "ticks": ""
             }
            },
            "type": "scatterpolar"
           }
          ],
          "scatterpolargl": [
           {
            "marker": {
             "colorbar": {
              "outlinewidth": 0,
              "ticks": ""
             }
            },
            "type": "scatterpolargl"
           }
          ],
          "scatterternary": [
           {
            "marker": {
             "colorbar": {
              "outlinewidth": 0,
              "ticks": ""
             }
            },
            "type": "scatterternary"
           }
          ],
          "surface": [
           {
            "colorbar": {
             "outlinewidth": 0,
             "ticks": ""
            },
            "colorscale": [
             [
              0,
              "#0d0887"
             ],
             [
              0.1111111111111111,
              "#46039f"
             ],
             [
              0.2222222222222222,
              "#7201a8"
             ],
             [
              0.3333333333333333,
              "#9c179e"
             ],
             [
              0.4444444444444444,
              "#bd3786"
             ],
             [
              0.5555555555555556,
              "#d8576b"
             ],
             [
              0.6666666666666666,
              "#ed7953"
             ],
             [
              0.7777777777777778,
              "#fb9f3a"
             ],
             [
              0.8888888888888888,
              "#fdca26"
             ],
             [
              1,
              "#f0f921"
             ]
            ],
            "type": "surface"
           }
          ],
          "table": [
           {
            "cells": {
             "fill": {
              "color": "#EBF0F8"
             },
             "line": {
              "color": "white"
             }
            },
            "header": {
             "fill": {
              "color": "#C8D4E3"
             },
             "line": {
              "color": "white"
             }
            },
            "type": "table"
           }
          ]
         },
         "layout": {
          "annotationdefaults": {
           "arrowcolor": "#2a3f5f",
           "arrowhead": 0,
           "arrowwidth": 1
          },
          "autotypenumbers": "strict",
          "coloraxis": {
           "colorbar": {
            "outlinewidth": 0,
            "ticks": ""
           }
          },
          "colorscale": {
           "diverging": [
            [
             0,
             "#8e0152"
            ],
            [
             0.1,
             "#c51b7d"
            ],
            [
             0.2,
             "#de77ae"
            ],
            [
             0.3,
             "#f1b6da"
            ],
            [
             0.4,
             "#fde0ef"
            ],
            [
             0.5,
             "#f7f7f7"
            ],
            [
             0.6,
             "#e6f5d0"
            ],
            [
             0.7,
             "#b8e186"
            ],
            [
             0.8,
             "#7fbc41"
            ],
            [
             0.9,
             "#4d9221"
            ],
            [
             1,
             "#276419"
            ]
           ],
           "sequential": [
            [
             0,
             "#0d0887"
            ],
            [
             0.1111111111111111,
             "#46039f"
            ],
            [
             0.2222222222222222,
             "#7201a8"
            ],
            [
             0.3333333333333333,
             "#9c179e"
            ],
            [
             0.4444444444444444,
             "#bd3786"
            ],
            [
             0.5555555555555556,
             "#d8576b"
            ],
            [
             0.6666666666666666,
             "#ed7953"
            ],
            [
             0.7777777777777778,
             "#fb9f3a"
            ],
            [
             0.8888888888888888,
             "#fdca26"
            ],
            [
             1,
             "#f0f921"
            ]
           ],
           "sequentialminus": [
            [
             0,
             "#0d0887"
            ],
            [
             0.1111111111111111,
             "#46039f"
            ],
            [
             0.2222222222222222,
             "#7201a8"
            ],
            [
             0.3333333333333333,
             "#9c179e"
            ],
            [
             0.4444444444444444,
             "#bd3786"
            ],
            [
             0.5555555555555556,
             "#d8576b"
            ],
            [
             0.6666666666666666,
             "#ed7953"
            ],
            [
             0.7777777777777778,
             "#fb9f3a"
            ],
            [
             0.8888888888888888,
             "#fdca26"
            ],
            [
             1,
             "#f0f921"
            ]
           ]
          },
          "colorway": [
           "#636efa",
           "#EF553B",
           "#00cc96",
           "#ab63fa",
           "#FFA15A",
           "#19d3f3",
           "#FF6692",
           "#B6E880",
           "#FF97FF",
           "#FECB52"
          ],
          "font": {
           "color": "#2a3f5f"
          },
          "geo": {
           "bgcolor": "white",
           "lakecolor": "white",
           "landcolor": "#E5ECF6",
           "showlakes": true,
           "showland": true,
           "subunitcolor": "white"
          },
          "hoverlabel": {
           "align": "left"
          },
          "hovermode": "closest",
          "mapbox": {
           "style": "light"
          },
          "paper_bgcolor": "white",
          "plot_bgcolor": "#E5ECF6",
          "polar": {
           "angularaxis": {
            "gridcolor": "white",
            "linecolor": "white",
            "ticks": ""
           },
           "bgcolor": "#E5ECF6",
           "radialaxis": {
            "gridcolor": "white",
            "linecolor": "white",
            "ticks": ""
           }
          },
          "scene": {
           "xaxis": {
            "backgroundcolor": "#E5ECF6",
            "gridcolor": "white",
            "gridwidth": 2,
            "linecolor": "white",
            "showbackground": true,
            "ticks": "",
            "zerolinecolor": "white"
           },
           "yaxis": {
            "backgroundcolor": "#E5ECF6",
            "gridcolor": "white",
            "gridwidth": 2,
            "linecolor": "white",
            "showbackground": true,
            "ticks": "",
            "zerolinecolor": "white"
           },
           "zaxis": {
            "backgroundcolor": "#E5ECF6",
            "gridcolor": "white",
            "gridwidth": 2,
            "linecolor": "white",
            "showbackground": true,
            "ticks": "",
            "zerolinecolor": "white"
           }
          },
          "shapedefaults": {
           "line": {
            "color": "#2a3f5f"
           }
          },
          "ternary": {
           "aaxis": {
            "gridcolor": "white",
            "linecolor": "white",
            "ticks": ""
           },
           "baxis": {
            "gridcolor": "white",
            "linecolor": "white",
            "ticks": ""
           },
           "bgcolor": "#E5ECF6",
           "caxis": {
            "gridcolor": "white",
            "linecolor": "white",
            "ticks": ""
           }
          },
          "title": {
           "x": 0.05
          },
          "xaxis": {
           "automargin": true,
           "gridcolor": "white",
           "linecolor": "white",
           "ticks": "",
           "title": {
            "standoff": 15
           },
           "zerolinecolor": "white",
           "zerolinewidth": 2
          },
          "yaxis": {
           "automargin": true,
           "gridcolor": "white",
           "linecolor": "white",
           "ticks": "",
           "title": {
            "standoff": 15
           },
           "zerolinecolor": "white",
           "zerolinewidth": 2
          }
         }
        },
        "title": {
         "text": "Dates vs More Than 10 Million People Conducted 10-25 Number of Trips"
        },
        "xaxis": {
         "anchor": "y",
         "domain": [
          0,
          1
         ],
         "title": {
          "text": "Date"
         }
        },
        "yaxis": {
         "anchor": "x",
         "domain": [
          0,
          1
         ],
         "title": {
          "text": "Number of Trips"
         }
        }
       }
      }
     },
     "metadata": {},
     "output_type": "display_data"
    },
    {
     "data": {
      "application/vnd.plotly.v1+json": {
       "config": {
        "plotlyServerURL": "https://plot.ly"
       },
       "data": [
        {
         "hovertemplate": "x=%{x}<br>y=%{y}<extra></extra>",
         "legendgroup": "",
         "marker": {
          "color": "#636efa",
          "symbol": "circle"
         },
         "mode": "markers",
         "name": "",
         "orientation": "v",
         "showlegend": false,
         "type": "scatter",
         "x": [
          "01/01/2019",
          "01/02/2019",
          "01/03/2019",
          "01/04/2019",
          "01/05/2019",
          "01/06/2019",
          "01/07/2019",
          "01/08/2019",
          "01/09/2019",
          "01/10/2019",
          "01/11/2019",
          "01/12/2019",
          "01/13/2019",
          "01/14/2019",
          "01/15/2019",
          "01/16/2019",
          "01/17/2019",
          "01/18/2019",
          "01/19/2019",
          "01/20/2019",
          "01/21/2019",
          "01/22/2019",
          "01/23/2019",
          "01/24/2019",
          "01/25/2019",
          "01/26/2019",
          "01/27/2019",
          "01/28/2019",
          "01/29/2019",
          "01/30/2019",
          "01/31/2019",
          "02/01/2019",
          "02/02/2019",
          "02/03/2019",
          "02/04/2019",
          "02/05/2019",
          "02/06/2019",
          "02/07/2019",
          "02/08/2019",
          "02/09/2019",
          "02/10/2019",
          "02/11/2019",
          "02/12/2019",
          "02/13/2019",
          "02/14/2019",
          "02/15/2019",
          "02/16/2019",
          "02/17/2019",
          "02/18/2019",
          "02/19/2019",
          "02/20/2019",
          "02/21/2019",
          "02/22/2019",
          "02/23/2019",
          "02/24/2019",
          "02/25/2019",
          "02/26/2019",
          "02/27/2019",
          "02/28/2019",
          "03/01/2019",
          "03/02/2019",
          "03/03/2019",
          "03/04/2019",
          "03/05/2019",
          "03/06/2019",
          "03/07/2019",
          "03/08/2019",
          "03/09/2019",
          "03/10/2019",
          "03/11/2019",
          "03/12/2019",
          "03/13/2019",
          "03/14/2019",
          "03/15/2019",
          "03/16/2019",
          "03/17/2019",
          "03/18/2019",
          "03/19/2019",
          "03/20/2019",
          "03/21/2019",
          "03/22/2019",
          "03/23/2019",
          "03/24/2019",
          "03/25/2019",
          "03/26/2019",
          "03/27/2019",
          "03/28/2019",
          "03/29/2019",
          "03/30/2019",
          "03/31/2019",
          "04/01/2019",
          "04/02/2019",
          "04/03/2019",
          "04/04/2019",
          "04/05/2019",
          "04/06/2019",
          "04/07/2019",
          "04/08/2019",
          "04/09/2019",
          "04/10/2019",
          "04/11/2019",
          "04/12/2019",
          "04/13/2019",
          "04/14/2019",
          "04/15/2019",
          "04/16/2019",
          "04/17/2019",
          "04/18/2019",
          "04/19/2019",
          "04/20/2019",
          "04/21/2019",
          "04/22/2019",
          "04/23/2019",
          "04/24/2019",
          "04/25/2019",
          "04/26/2019",
          "04/27/2019",
          "04/28/2019",
          "04/29/2019",
          "04/30/2019",
          "05/01/2019",
          "05/02/2019",
          "05/03/2019",
          "05/04/2019",
          "05/05/2019",
          "05/06/2019",
          "05/07/2019",
          "05/08/2019",
          "05/09/2019",
          "05/10/2019",
          "05/11/2019",
          "05/12/2019",
          "05/13/2019",
          "05/14/2019",
          "05/15/2019",
          "05/16/2019",
          "05/17/2019",
          "05/18/2019",
          "05/19/2019",
          "05/20/2019",
          "05/21/2019",
          "05/22/2019",
          "05/23/2019",
          "05/24/2019",
          "05/25/2019",
          "05/26/2019",
          "05/27/2019",
          "05/28/2019",
          "05/29/2019",
          "05/30/2019",
          "05/31/2019",
          "06/01/2019",
          "06/02/2019",
          "06/03/2019",
          "06/04/2019",
          "06/05/2019",
          "06/06/2019",
          "06/06/2021",
          "06/07/2019",
          "06/07/2021",
          "06/08/2019",
          "06/08/2021",
          "06/09/2019",
          "06/09/2021",
          "06/10/2019",
          "06/10/2021",
          "06/11/2019",
          "06/11/2021",
          "06/12/2019",
          "06/12/2021",
          "06/13/2019",
          "06/13/2021",
          "06/14/2019",
          "06/14/2021",
          "06/15/2019",
          "06/15/2021",
          "06/16/2019",
          "06/16/2021",
          "06/17/2019",
          "06/17/2021",
          "06/18/2019",
          "06/18/2021",
          "06/19/2019",
          "06/19/2021",
          "06/20/2019",
          "06/21/2019",
          "06/22/2019",
          "06/23/2019",
          "06/24/2019",
          "06/25/2019",
          "06/26/2019",
          "06/27/2019",
          "06/28/2019",
          "06/29/2019",
          "06/30/2019",
          "07/01/2019",
          "07/02/2019",
          "07/03/2019",
          "07/04/2019",
          "07/05/2019",
          "07/06/2019",
          "07/07/2019",
          "07/08/2019",
          "07/09/2019",
          "07/10/2019",
          "07/11/2019",
          "07/12/2019",
          "07/13/2019",
          "07/14/2019",
          "07/15/2019",
          "07/16/2019",
          "07/17/2019",
          "07/18/2019",
          "07/19/2019",
          "07/20/2019",
          "07/21/2019",
          "07/22/2019",
          "07/23/2019",
          "07/24/2019",
          "07/25/2019",
          "07/26/2019",
          "07/27/2019",
          "07/28/2019",
          "07/29/2019",
          "07/30/2019",
          "07/31/2019",
          "08/01/2019",
          "08/02/2019",
          "08/03/2019",
          "08/04/2019",
          "08/05/2019",
          "08/06/2019",
          "08/07/2019",
          "08/08/2019",
          "08/09/2019",
          "08/10/2019",
          "08/11/2019",
          "08/12/2019",
          "08/13/2019",
          "08/14/2019",
          "08/15/2019",
          "08/16/2019",
          "08/17/2019",
          "08/18/2019",
          "08/19/2019",
          "08/20/2019",
          "08/21/2019",
          "08/22/2019",
          "08/23/2019",
          "08/24/2019",
          "08/25/2019",
          "08/26/2019",
          "08/27/2019",
          "08/28/2019",
          "08/29/2019",
          "08/30/2019",
          "08/31/2019",
          "09/01/2019",
          "09/02/2019",
          "09/03/2019",
          "09/04/2019",
          "09/05/2019",
          "09/06/2019",
          "09/07/2019",
          "09/08/2019",
          "09/09/2019",
          "09/10/2019",
          "09/11/2019",
          "09/12/2019",
          "09/13/2019",
          "09/14/2019",
          "09/15/2019",
          "09/16/2019",
          "09/17/2019",
          "09/18/2019",
          "09/19/2019",
          "09/20/2019",
          "09/21/2019",
          "09/22/2019",
          "09/23/2019",
          "09/24/2019",
          "09/25/2019",
          "09/26/2019",
          "09/27/2019",
          "09/28/2019",
          "09/29/2019",
          "09/30/2019",
          "10/01/2019",
          "10/02/2019",
          "10/03/2019",
          "10/04/2019",
          "10/05/2019",
          "10/06/2019",
          "10/07/2019",
          "10/08/2019",
          "10/09/2019",
          "10/10/2019",
          "10/11/2019",
          "10/12/2019",
          "10/13/2019",
          "10/14/2019",
          "10/15/2019",
          "10/16/2019",
          "10/17/2019",
          "10/18/2019",
          "10/19/2019",
          "10/20/2019",
          "10/21/2019",
          "10/22/2019",
          "10/23/2019",
          "10/24/2019",
          "10/25/2019",
          "10/26/2019",
          "10/27/2019",
          "10/28/2019",
          "10/29/2019",
          "10/30/2019",
          "10/31/2019"
         ],
         "xaxis": "x",
         "y": [
          15686088,
          17738492,
          18365914,
          19315047,
          19362964,
          17418347,
          17490868,
          17368726,
          17542454,
          18087089,
          19056444,
          19154385,
          17210339,
          17633094,
          17369872,
          17702484,
          18342048,
          19265004,
          19322989,
          17477496,
          18330369,
          17572289,
          17972242,
          18665963,
          19621288,
          19612172,
          17564856,
          17348055,
          17166022,
          16952179,
          17254038,
          18352165,
          18595642,
          16650248,
          17985585,
          17435207,
          18251034,
          19177396,
          19961744,
          19906735,
          18349085,
          18814045,
          18250055,
          18853731,
          19712559,
          20773473,
          20559871,
          17897376,
          18445661,
          17810200,
          18363645,
          19160116,
          20121574,
          20032734,
          17865423,
          18885509,
          18237561,
          17499230,
          18068250,
          20285691,
          20166328,
          18037438,
          18849523,
          18099392,
          18237073,
          18979025,
          21471631,
          21402831,
          19061239,
          20530669,
          19245033,
          18838542,
          19493837,
          22009720,
          22109698,
          20166309,
          21001597,
          20505017,
          19379595,
          19931603,
          22501528,
          22769766,
          21190240,
          22753647,
          22272452,
          20051573,
          20471598,
          21606507,
          22015213,
          20782916,
          22165546,
          21680258,
          20646328,
          21246320,
          22382080,
          22668092,
          21189160,
          21935734,
          21590328,
          19983056,
          20478706,
          21601802,
          21997056,
          20920407,
          21192422,
          20924428,
          20153620,
          20735322,
          21827672,
          22222540,
          21181181,
          21770956,
          21406797,
          20269931,
          20826214,
          21952141,
          22300536,
          21116677,
          21638874,
          21314321,
          20144995,
          20683714,
          21801484,
          22190192,
          21082294,
          16661927,
          16857104,
          16959753,
          17604030,
          18866619,
          19440256,
          18637749,
          16902241,
          16773822,
          17365509,
          17858659,
          19406062,
          19543284,
          18315705,
          17010983,
          16985297,
          17461862,
          17935452,
          20423182,
          20506609,
          19827953,
          19177022,
          17878641,
          17721676,
          18099928,
          20063856,
          20041135,
          19194555,
          18047277,
          17666059,
          17794046,
          18801146,
          19064535,
          20432481,
          16385380,
          20623867,
          16833606,
          19673628,
          16711598,
          18297647,
          16728196,
          17753847,
          19330849,
          18134133,
          20699270,
          18735871,
          19816686,
          20805601,
          16088828,
          21176141,
          16768144,
          20175157,
          16763039,
          18240766,
          16827307,
          17731264,
          19307634,
          18122769,
          21231536,
          18771995,
          20428112,
          20950201,
          20173337,
          18516091,
          18293101,
          18612715,
          19246198,
          20605402,
          21199015,
          20394680,
          18583487,
          18323160,
          18675589,
          19513683,
          20663302,
          21262949,
          20554922,
          18539572,
          17911386,
          18266373,
          18781476,
          20487780,
          21195827,
          20293543,
          18115258,
          17540810,
          17998290,
          18243437,
          20483484,
          21202332,
          20207774,
          17992308,
          17442214,
          17884095,
          18050505,
          20379875,
          21167608,
          20419005,
          18042206,
          17338614,
          17845605,
          18452778,
          20172390,
          21097068,
          19909131,
          17816616,
          17448118,
          17816246,
          17466996,
          20491105,
          21182658,
          20291109,
          18113957,
          17541059,
          17997991,
          18248611,
          20483996,
          21201217,
          20213130,
          17997364,
          17449644,
          17891767,
          18060666,
          20388023,
          21180768,
          20136832,
          17977202,
          17480073,
          17903950,
          17923210,
          20453635,
          21189919,
          21393222,
          21795108,
          17469054,
          17899198,
          18002238,
          20417640,
          21168638,
          20777382,
          17972244,
          17342267,
          17587557,
          17860810,
          20275788,
          21066682,
          20648651,
          17767965,
          17151666,
          17365821,
          17756565,
          19993039,
          20623057,
          19743742,
          16933413,
          16489069,
          16349724,
          17007941,
          19254267,
          19956486,
          18894237,
          16314691,
          16085199,
          15784578,
          16519423,
          18607472,
          19297649,
          18115957,
          15743654,
          15589365,
          15292941,
          16124803,
          17810858,
          18491177,
          17197573,
          20855243,
          15230296,
          15106434,
          15732677,
          17196044,
          17702301,
          16333845,
          15194511,
          15139536,
          15276984,
          15353261,
          16980126,
          17513037,
          16726394,
          14612900,
          14143851,
          12789377,
          14260908
         ],
         "yaxis": "y"
        }
       ],
       "layout": {
        "legend": {
         "tracegroupgap": 0
        },
        "margin": {
         "t": 60
        },
        "template": {
         "data": {
          "bar": [
           {
            "error_x": {
             "color": "#2a3f5f"
            },
            "error_y": {
             "color": "#2a3f5f"
            },
            "marker": {
             "line": {
              "color": "#E5ECF6",
              "width": 0.5
             },
             "pattern": {
              "fillmode": "overlay",
              "size": 10,
              "solidity": 0.2
             }
            },
            "type": "bar"
           }
          ],
          "barpolar": [
           {
            "marker": {
             "line": {
              "color": "#E5ECF6",
              "width": 0.5
             },
             "pattern": {
              "fillmode": "overlay",
              "size": 10,
              "solidity": 0.2
             }
            },
            "type": "barpolar"
           }
          ],
          "carpet": [
           {
            "aaxis": {
             "endlinecolor": "#2a3f5f",
             "gridcolor": "white",
             "linecolor": "white",
             "minorgridcolor": "white",
             "startlinecolor": "#2a3f5f"
            },
            "baxis": {
             "endlinecolor": "#2a3f5f",
             "gridcolor": "white",
             "linecolor": "white",
             "minorgridcolor": "white",
             "startlinecolor": "#2a3f5f"
            },
            "type": "carpet"
           }
          ],
          "choropleth": [
           {
            "colorbar": {
             "outlinewidth": 0,
             "ticks": ""
            },
            "type": "choropleth"
           }
          ],
          "contour": [
           {
            "colorbar": {
             "outlinewidth": 0,
             "ticks": ""
            },
            "colorscale": [
             [
              0,
              "#0d0887"
             ],
             [
              0.1111111111111111,
              "#46039f"
             ],
             [
              0.2222222222222222,
              "#7201a8"
             ],
             [
              0.3333333333333333,
              "#9c179e"
             ],
             [
              0.4444444444444444,
              "#bd3786"
             ],
             [
              0.5555555555555556,
              "#d8576b"
             ],
             [
              0.6666666666666666,
              "#ed7953"
             ],
             [
              0.7777777777777778,
              "#fb9f3a"
             ],
             [
              0.8888888888888888,
              "#fdca26"
             ],
             [
              1,
              "#f0f921"
             ]
            ],
            "type": "contour"
           }
          ],
          "contourcarpet": [
           {
            "colorbar": {
             "outlinewidth": 0,
             "ticks": ""
            },
            "type": "contourcarpet"
           }
          ],
          "heatmap": [
           {
            "colorbar": {
             "outlinewidth": 0,
             "ticks": ""
            },
            "colorscale": [
             [
              0,
              "#0d0887"
             ],
             [
              0.1111111111111111,
              "#46039f"
             ],
             [
              0.2222222222222222,
              "#7201a8"
             ],
             [
              0.3333333333333333,
              "#9c179e"
             ],
             [
              0.4444444444444444,
              "#bd3786"
             ],
             [
              0.5555555555555556,
              "#d8576b"
             ],
             [
              0.6666666666666666,
              "#ed7953"
             ],
             [
              0.7777777777777778,
              "#fb9f3a"
             ],
             [
              0.8888888888888888,
              "#fdca26"
             ],
             [
              1,
              "#f0f921"
             ]
            ],
            "type": "heatmap"
           }
          ],
          "heatmapgl": [
           {
            "colorbar": {
             "outlinewidth": 0,
             "ticks": ""
            },
            "colorscale": [
             [
              0,
              "#0d0887"
             ],
             [
              0.1111111111111111,
              "#46039f"
             ],
             [
              0.2222222222222222,
              "#7201a8"
             ],
             [
              0.3333333333333333,
              "#9c179e"
             ],
             [
              0.4444444444444444,
              "#bd3786"
             ],
             [
              0.5555555555555556,
              "#d8576b"
             ],
             [
              0.6666666666666666,
              "#ed7953"
             ],
             [
              0.7777777777777778,
              "#fb9f3a"
             ],
             [
              0.8888888888888888,
              "#fdca26"
             ],
             [
              1,
              "#f0f921"
             ]
            ],
            "type": "heatmapgl"
           }
          ],
          "histogram": [
           {
            "marker": {
             "pattern": {
              "fillmode": "overlay",
              "size": 10,
              "solidity": 0.2
             }
            },
            "type": "histogram"
           }
          ],
          "histogram2d": [
           {
            "colorbar": {
             "outlinewidth": 0,
             "ticks": ""
            },
            "colorscale": [
             [
              0,
              "#0d0887"
             ],
             [
              0.1111111111111111,
              "#46039f"
             ],
             [
              0.2222222222222222,
              "#7201a8"
             ],
             [
              0.3333333333333333,
              "#9c179e"
             ],
             [
              0.4444444444444444,
              "#bd3786"
             ],
             [
              0.5555555555555556,
              "#d8576b"
             ],
             [
              0.6666666666666666,
              "#ed7953"
             ],
             [
              0.7777777777777778,
              "#fb9f3a"
             ],
             [
              0.8888888888888888,
              "#fdca26"
             ],
             [
              1,
              "#f0f921"
             ]
            ],
            "type": "histogram2d"
           }
          ],
          "histogram2dcontour": [
           {
            "colorbar": {
             "outlinewidth": 0,
             "ticks": ""
            },
            "colorscale": [
             [
              0,
              "#0d0887"
             ],
             [
              0.1111111111111111,
              "#46039f"
             ],
             [
              0.2222222222222222,
              "#7201a8"
             ],
             [
              0.3333333333333333,
              "#9c179e"
             ],
             [
              0.4444444444444444,
              "#bd3786"
             ],
             [
              0.5555555555555556,
              "#d8576b"
             ],
             [
              0.6666666666666666,
              "#ed7953"
             ],
             [
              0.7777777777777778,
              "#fb9f3a"
             ],
             [
              0.8888888888888888,
              "#fdca26"
             ],
             [
              1,
              "#f0f921"
             ]
            ],
            "type": "histogram2dcontour"
           }
          ],
          "mesh3d": [
           {
            "colorbar": {
             "outlinewidth": 0,
             "ticks": ""
            },
            "type": "mesh3d"
           }
          ],
          "parcoords": [
           {
            "line": {
             "colorbar": {
              "outlinewidth": 0,
              "ticks": ""
             }
            },
            "type": "parcoords"
           }
          ],
          "pie": [
           {
            "automargin": true,
            "type": "pie"
           }
          ],
          "scatter": [
           {
            "fillpattern": {
             "fillmode": "overlay",
             "size": 10,
             "solidity": 0.2
            },
            "type": "scatter"
           }
          ],
          "scatter3d": [
           {
            "line": {
             "colorbar": {
              "outlinewidth": 0,
              "ticks": ""
             }
            },
            "marker": {
             "colorbar": {
              "outlinewidth": 0,
              "ticks": ""
             }
            },
            "type": "scatter3d"
           }
          ],
          "scattercarpet": [
           {
            "marker": {
             "colorbar": {
              "outlinewidth": 0,
              "ticks": ""
             }
            },
            "type": "scattercarpet"
           }
          ],
          "scattergeo": [
           {
            "marker": {
             "colorbar": {
              "outlinewidth": 0,
              "ticks": ""
             }
            },
            "type": "scattergeo"
           }
          ],
          "scattergl": [
           {
            "marker": {
             "colorbar": {
              "outlinewidth": 0,
              "ticks": ""
             }
            },
            "type": "scattergl"
           }
          ],
          "scattermapbox": [
           {
            "marker": {
             "colorbar": {
              "outlinewidth": 0,
              "ticks": ""
             }
            },
            "type": "scattermapbox"
           }
          ],
          "scatterpolar": [
           {
            "marker": {
             "colorbar": {
              "outlinewidth": 0,
              "ticks": ""
             }
            },
            "type": "scatterpolar"
           }
          ],
          "scatterpolargl": [
           {
            "marker": {
             "colorbar": {
              "outlinewidth": 0,
              "ticks": ""
             }
            },
            "type": "scatterpolargl"
           }
          ],
          "scatterternary": [
           {
            "marker": {
             "colorbar": {
              "outlinewidth": 0,
              "ticks": ""
             }
            },
            "type": "scatterternary"
           }
          ],
          "surface": [
           {
            "colorbar": {
             "outlinewidth": 0,
             "ticks": ""
            },
            "colorscale": [
             [
              0,
              "#0d0887"
             ],
             [
              0.1111111111111111,
              "#46039f"
             ],
             [
              0.2222222222222222,
              "#7201a8"
             ],
             [
              0.3333333333333333,
              "#9c179e"
             ],
             [
              0.4444444444444444,
              "#bd3786"
             ],
             [
              0.5555555555555556,
              "#d8576b"
             ],
             [
              0.6666666666666666,
              "#ed7953"
             ],
             [
              0.7777777777777778,
              "#fb9f3a"
             ],
             [
              0.8888888888888888,
              "#fdca26"
             ],
             [
              1,
              "#f0f921"
             ]
            ],
            "type": "surface"
           }
          ],
          "table": [
           {
            "cells": {
             "fill": {
              "color": "#EBF0F8"
             },
             "line": {
              "color": "white"
             }
            },
            "header": {
             "fill": {
              "color": "#C8D4E3"
             },
             "line": {
              "color": "white"
             }
            },
            "type": "table"
           }
          ]
         },
         "layout": {
          "annotationdefaults": {
           "arrowcolor": "#2a3f5f",
           "arrowhead": 0,
           "arrowwidth": 1
          },
          "autotypenumbers": "strict",
          "coloraxis": {
           "colorbar": {
            "outlinewidth": 0,
            "ticks": ""
           }
          },
          "colorscale": {
           "diverging": [
            [
             0,
             "#8e0152"
            ],
            [
             0.1,
             "#c51b7d"
            ],
            [
             0.2,
             "#de77ae"
            ],
            [
             0.3,
             "#f1b6da"
            ],
            [
             0.4,
             "#fde0ef"
            ],
            [
             0.5,
             "#f7f7f7"
            ],
            [
             0.6,
             "#e6f5d0"
            ],
            [
             0.7,
             "#b8e186"
            ],
            [
             0.8,
             "#7fbc41"
            ],
            [
             0.9,
             "#4d9221"
            ],
            [
             1,
             "#276419"
            ]
           ],
           "sequential": [
            [
             0,
             "#0d0887"
            ],
            [
             0.1111111111111111,
             "#46039f"
            ],
            [
             0.2222222222222222,
             "#7201a8"
            ],
            [
             0.3333333333333333,
             "#9c179e"
            ],
            [
             0.4444444444444444,
             "#bd3786"
            ],
            [
             0.5555555555555556,
             "#d8576b"
            ],
            [
             0.6666666666666666,
             "#ed7953"
            ],
            [
             0.7777777777777778,
             "#fb9f3a"
            ],
            [
             0.8888888888888888,
             "#fdca26"
            ],
            [
             1,
             "#f0f921"
            ]
           ],
           "sequentialminus": [
            [
             0,
             "#0d0887"
            ],
            [
             0.1111111111111111,
             "#46039f"
            ],
            [
             0.2222222222222222,
             "#7201a8"
            ],
            [
             0.3333333333333333,
             "#9c179e"
            ],
            [
             0.4444444444444444,
             "#bd3786"
            ],
            [
             0.5555555555555556,
             "#d8576b"
            ],
            [
             0.6666666666666666,
             "#ed7953"
            ],
            [
             0.7777777777777778,
             "#fb9f3a"
            ],
            [
             0.8888888888888888,
             "#fdca26"
            ],
            [
             1,
             "#f0f921"
            ]
           ]
          },
          "colorway": [
           "#636efa",
           "#EF553B",
           "#00cc96",
           "#ab63fa",
           "#FFA15A",
           "#19d3f3",
           "#FF6692",
           "#B6E880",
           "#FF97FF",
           "#FECB52"
          ],
          "font": {
           "color": "#2a3f5f"
          },
          "geo": {
           "bgcolor": "white",
           "lakecolor": "white",
           "landcolor": "#E5ECF6",
           "showlakes": true,
           "showland": true,
           "subunitcolor": "white"
          },
          "hoverlabel": {
           "align": "left"
          },
          "hovermode": "closest",
          "mapbox": {
           "style": "light"
          },
          "paper_bgcolor": "white",
          "plot_bgcolor": "#E5ECF6",
          "polar": {
           "angularaxis": {
            "gridcolor": "white",
            "linecolor": "white",
            "ticks": ""
           },
           "bgcolor": "#E5ECF6",
           "radialaxis": {
            "gridcolor": "white",
            "linecolor": "white",
            "ticks": ""
           }
          },
          "scene": {
           "xaxis": {
            "backgroundcolor": "#E5ECF6",
            "gridcolor": "white",
            "gridwidth": 2,
            "linecolor": "white",
            "showbackground": true,
            "ticks": "",
            "zerolinecolor": "white"
           },
           "yaxis": {
            "backgroundcolor": "#E5ECF6",
            "gridcolor": "white",
            "gridwidth": 2,
            "linecolor": "white",
            "showbackground": true,
            "ticks": "",
            "zerolinecolor": "white"
           },
           "zaxis": {
            "backgroundcolor": "#E5ECF6",
            "gridcolor": "white",
            "gridwidth": 2,
            "linecolor": "white",
            "showbackground": true,
            "ticks": "",
            "zerolinecolor": "white"
           }
          },
          "shapedefaults": {
           "line": {
            "color": "#2a3f5f"
           }
          },
          "ternary": {
           "aaxis": {
            "gridcolor": "white",
            "linecolor": "white",
            "ticks": ""
           },
           "baxis": {
            "gridcolor": "white",
            "linecolor": "white",
            "ticks": ""
           },
           "bgcolor": "#E5ECF6",
           "caxis": {
            "gridcolor": "white",
            "linecolor": "white",
            "ticks": ""
           }
          },
          "title": {
           "x": 0.05
          },
          "xaxis": {
           "automargin": true,
           "gridcolor": "white",
           "linecolor": "white",
           "ticks": "",
           "title": {
            "standoff": 15
           },
           "zerolinecolor": "white",
           "zerolinewidth": 2
          },
          "yaxis": {
           "automargin": true,
           "gridcolor": "white",
           "linecolor": "white",
           "ticks": "",
           "title": {
            "standoff": 15
           },
           "zerolinecolor": "white",
           "zerolinewidth": 2
          }
         }
        },
        "title": {
         "text": "Dates vs More Than 10 Million People Conducted 50-100 Number of Trips"
        },
        "xaxis": {
         "anchor": "y",
         "domain": [
          0,
          1
         ],
         "title": {
          "text": "Date"
         }
        },
        "yaxis": {
         "anchor": "x",
         "domain": [
          0,
          1
         ],
         "title": {
          "text": "Number of Trips"
         }
        }
       }
      }
     },
     "metadata": {},
     "output_type": "display_data"
    }
   ],
   "source": [
    "# (b)\n",
    "def plot_compare_dates(df, df_type):\n",
    "    trips_10_25_by_date = df.groupby(by=\"Date\")['Number of Trips 10-25'].sum() # total number of people who conducted 10-25 Number of Trips by dates\n",
    "    dates_more_than_10m_trips_a = trips_10_25_by_date[trips_10_25_by_date > 10000000]\n",
    "\n",
    "    trips_50_100_by_date = df.groupby(by=\"Date\")['Number of Trips 50-100'].sum() # total number of people who conducted 10-25 Number of Trips by dates\n",
    "    dates_more_than_10m_trips_b = trips_50_100_by_date[trips_50_100_by_date > 10000000]\n",
    "\n",
    "    if df_type == 'pd':\n",
    "        print(f\"Dates pepople conducted 10-25 number of trips {dates_more_than_10m_trips_a.index}\") # dates more than 10000000 people conducted 10-25 Number of Trips\n",
    "        print(f\"Dates pepople conducted 50-100 number of trips {dates_more_than_10m_trips_b.index}\") # dates more than 10000000 people conducted 50-100 Number of Trips\n",
    "\n",
    "        # scatter plot (dates vs number of people who conducted 10-25 Number of Trips)\n",
    "        fig = px.scatter(x=dates_more_than_10m_trips_a.index, y=dates_more_than_10m_trips_a.values)\n",
    "        fig.update_layout(\n",
    "            xaxis_title=\"Date\",\n",
    "            yaxis_title=\"Number of Trips\",\n",
    "            title=\"Dates vs More Than 10 Million People Conducted 10-25 Number of Trips\"\n",
    "        )\n",
    "        fig.show()\n",
    "\n",
    "        # scatter plot (dates vs number of people who conducted 50-100 Number of Trips)\n",
    "        fig = px.scatter(x=dates_more_than_10m_trips_b.index, y=dates_more_than_10m_trips_b.values)\n",
    "        fig.update_layout(\n",
    "            xaxis_title=\"Date\",\n",
    "            yaxis_title=\"Number of Trips\",\n",
    "            title=\"Dates vs More Than 10 Million People Conducted 50-100 Number of Trips\"\n",
    "        )\n",
    "        fig.show()\n",
    "\n",
    "    elif df_type == 'dd':\n",
    "        print(f\"Dates pepople conducted 10-25 number of trips {dates_more_than_10m_trips_a.index.compute()}\") # dates more than 10000000 people conducted 10-25 Number of Trips\n",
    "        print(f\"Dates pepople conducted 50-100 number of trips {dates_more_than_10m_trips_b.index.compute()}\") # dates more than 10000000 people conducted 50-100 Number of Trips\n",
    "\n",
    "        # scatter plot (dates vs number of people who conducted 10-25 Number of Trips)\n",
    "        fig = px.scatter(x=dates_more_than_10m_trips_a.index.compute(), y=dates_more_than_10m_trips_a.values.compute())\n",
    "        fig.update_layout(\n",
    "            xaxis_title=\"Date\",\n",
    "            yaxis_title=\"Number of Trips\",\n",
    "            title=\"Dates vs More Than 10 Million People Conducted 10-25 Number of Trips\"\n",
    "        )\n",
    "        fig.show()\n",
    "\n",
    "        # scatter plot (dates vs number of people who conducted 50-100 Number of Trips)\n",
    "        fig = px.scatter(x=dates_more_than_10m_trips_b.index.compute(), y=dates_more_than_10m_trips_b.values.compute())\n",
    "        fig.update_layout(\n",
    "            xaxis_title=\"Date\",\n",
    "            yaxis_title=\"Number of Trips\",\n",
    "            title=\"Dates vs More Than 10 Million People Conducted 50-100 Number of Trips\"\n",
    "        )\n",
    "        fig.show()\n",
    "    \n",
    "    else:\n",
    "        return \"Invalid dataframe type\"\n",
    "\n",
    "plot_compare_dates(trips_by_distance, \"pd\")"
   ]
  },
  {
   "cell_type": "code",
   "execution_count": 95,
   "metadata": {},
   "outputs": [
    {
     "name": "stdout",
     "output_type": "stream",
     "text": [
      "\n",
      "\n",
      "\n",
      "Starting computation with 3 processors...\n",
      "\n",
      "\n",
      "\n"
     ]
    },
    {
     "name": "stderr",
     "output_type": "stream",
     "text": [
      "/Users/jintanoda/Desktop/5011CEM-Big-Data/venv/lib/python3.10/site-packages/distributed/node.py:182: UserWarning:\n",
      "\n",
      "Port 8787 is already in use.\n",
      "Perhaps you already have a cluster running?\n",
      "Hosting the HTTP server on port 57513 instead\n",
      "\n"
     ]
    },
    {
     "name": "stdout",
     "output_type": "stream",
     "text": [
      "Number of weeks 45\n"
     ]
    },
    {
     "data": {
      "image/png": "[encoded data removed]",
      "text/plain": [
       "<Figure size 640x480 with 1 Axes>"
      ]
     },
     "metadata": {},
     "output_type": "display_data"
    },
    {
     "data": {
      "image/png": "[encoded data removed]",
      "text/plain": [
       "<Figure size 640x480 with 1 Axes>"
      ]
     },
     "metadata": {},
     "output_type": "display_data"
    },
    {
     "name": "stdout",
     "output_type": "stream",
     "text": [
      "Dates pepople conducted 10-25 number of trips Index(['01/01/2019', '01/02/2019', '01/03/2019', '01/04/2019', '01/05/2019',\n",
      "       '01/06/2019', '01/07/2019', '01/08/2019', '01/09/2019', '01/10/2019',\n",
      "       ...\n",
      "       '10/23/2019', '10/24/2019', '10/25/2019', '10/26/2019', '10/27/2019',\n",
      "       '10/28/2019', '10/29/2019', '10/30/2019', '10/31/2019', '11/01/2019'],\n",
      "      dtype='string', name='Date', length=319)\n",
      "Dates pepople conducted 50-100 number of trips Index(['01/01/2019', '01/02/2019', '01/03/2019', '01/04/2019', '01/05/2019',\n",
      "       '01/06/2019', '01/07/2019', '01/08/2019', '01/09/2019', '01/10/2019',\n",
      "       ...\n",
      "       '10/22/2019', '10/23/2019', '10/24/2019', '10/25/2019', '10/26/2019',\n",
      "       '10/27/2019', '10/28/2019', '10/29/2019', '10/30/2019', '10/31/2019'],\n",
      "      dtype='string', name='Date', length=318)\n"
     ]
    },
    {
     "data": {
      "application/vnd.plotly.v1+json": {
       "config": {
        "plotlyServerURL": "https://plot.ly"
       },
       "data": [
        {
         "hovertemplate": "x=%{x}<br>y=%{y}<extra></extra>",
         "legendgroup": "",
         "marker": {
          "color": "#636efa",
          "symbol": "circle"
         },
         "mode": "markers",
         "name": "",
         "orientation": "v",
         "showlegend": false,
         "type": "scatter",
         "x": [
          "01/01/2019",
          "01/02/2019",
          "01/03/2019",
          "01/04/2019",
          "01/05/2019",
          "01/06/2019",
          "01/07/2019",
          "01/08/2019",
          "01/09/2019",
          "01/10/2019",
          "01/11/2019",
          "01/12/2019",
          "01/13/2019",
          "01/14/2019",
          "01/15/2019",
          "01/16/2019",
          "01/17/2019",
          "01/18/2019",
          "01/19/2019",
          "01/20/2019",
          "01/21/2019",
          "01/22/2019",
          "01/23/2019",
          "01/24/2019",
          "01/25/2019",
          "01/26/2019",
          "01/27/2019",
          "01/28/2019",
          "01/29/2019",
          "01/30/2019",
          "01/31/2019",
          "02/01/2019",
          "02/02/2019",
          "02/03/2019",
          "02/04/2019",
          "02/05/2019",
          "02/06/2019",
          "02/07/2019",
          "02/08/2019",
          "02/09/2019",
          "02/10/2019",
          "02/11/2019",
          "02/12/2019",
          "02/13/2019",
          "02/14/2019",
          "02/15/2019",
          "02/16/2019",
          "02/17/2019",
          "02/18/2019",
          "02/19/2019",
          "02/20/2019",
          "02/21/2019",
          "02/22/2019",
          "02/23/2019",
          "02/24/2019",
          "02/25/2019",
          "02/26/2019",
          "02/27/2019",
          "02/28/2019",
          "03/01/2019",
          "03/02/2019",
          "03/03/2019",
          "03/04/2019",
          "03/05/2019",
          "03/06/2019",
          "03/07/2019",
          "03/08/2019",
          "03/09/2019",
          "03/10/2019",
          "03/11/2019",
          "03/12/2019",
          "03/13/2019",
          "03/14/2019",
          "03/15/2019",
          "03/16/2019",
          "03/17/2019",
          "03/18/2019",
          "03/19/2019",
          "03/20/2019",
          "03/21/2019",
          "03/22/2019",
          "03/23/2019",
          "03/24/2019",
          "03/25/2019",
          "03/26/2019",
          "03/27/2019",
          "03/28/2019",
          "03/29/2019",
          "03/30/2019",
          "03/31/2019",
          "04/01/2019",
          "04/02/2019",
          "04/03/2019",
          "04/04/2019",
          "04/05/2019",
          "04/06/2019",
          "04/07/2019",
          "04/08/2019",
          "04/09/2019",
          "04/10/2019",
          "04/11/2019",
          "04/12/2019",
          "04/13/2019",
          "04/14/2019",
          "04/15/2019",
          "04/16/2019",
          "04/17/2019",
          "04/18/2019",
          "04/19/2019",
          "04/20/2019",
          "04/21/2019",
          "04/22/2019",
          "04/23/2019",
          "04/24/2019",
          "04/25/2019",
          "04/26/2019",
          "04/27/2019",
          "04/28/2019",
          "04/29/2019",
          "04/30/2019",
          "05/01/2019",
          "05/02/2019",
          "05/03/2019",
          "05/04/2019",
          "05/05/2019",
          "05/06/2019",
          "05/07/2019",
          "05/08/2019",
          "05/09/2019",
          "05/10/2019",
          "05/11/2019",
          "05/12/2019",
          "05/13/2019",
          "05/14/2019",
          "05/15/2019",
          "05/16/2019",
          "05/17/2019",
          "05/18/2019",
          "05/19/2019",
          "05/20/2019",
          "05/21/2019",
          "05/22/2019",
          "05/23/2019",
          "05/24/2019",
          "05/25/2019",
          "05/26/2019",
          "05/27/2019",
          "05/28/2019",
          "05/29/2019",
          "05/30/2019",
          "05/31/2019",
          "06/01/2019",
          "06/02/2019",
          "06/03/2019",
          "06/04/2019",
          "06/05/2019",
          "06/06/2019",
          "06/06/2021",
          "06/07/2019",
          "06/07/2021",
          "06/08/2019",
          "06/08/2021",
          "06/09/2019",
          "06/09/2021",
          "06/10/2019",
          "06/10/2021",
          "06/11/2019",
          "06/11/2021",
          "06/12/2019",
          "06/12/2021",
          "06/13/2019",
          "06/13/2021",
          "06/14/2019",
          "06/14/2021",
          "06/15/2019",
          "06/15/2021",
          "06/16/2019",
          "06/16/2021",
          "06/17/2019",
          "06/17/2021",
          "06/18/2019",
          "06/18/2021",
          "06/19/2019",
          "06/19/2021",
          "06/20/2019",
          "06/21/2019",
          "06/22/2019",
          "06/23/2019",
          "06/24/2019",
          "06/25/2019",
          "06/26/2019",
          "06/27/2019",
          "06/28/2019",
          "06/29/2019",
          "06/30/2019",
          "07/01/2019",
          "07/02/2019",
          "07/03/2019",
          "07/04/2019",
          "07/05/2019",
          "07/06/2019",
          "07/07/2019",
          "07/08/2019",
          "07/09/2019",
          "07/10/2019",
          "07/11/2019",
          "07/12/2019",
          "07/13/2019",
          "07/14/2019",
          "07/15/2019",
          "07/16/2019",
          "07/17/2019",
          "07/18/2019",
          "07/19/2019",
          "07/20/2019",
          "07/21/2019",
          "07/22/2019",
          "07/23/2019",
          "07/24/2019",
          "07/25/2019",
          "07/26/2019",
          "07/27/2019",
          "07/28/2019",
          "07/29/2019",
          "07/30/2019",
          "07/31/2019",
          "08/01/2019",
          "08/02/2019",
          "08/03/2019",
          "08/04/2019",
          "08/05/2019",
          "08/06/2019",
          "08/07/2019",
          "08/08/2019",
          "08/09/2019",
          "08/10/2019",
          "08/11/2019",
          "08/12/2019",
          "08/13/2019",
          "08/14/2019",
          "08/15/2019",
          "08/16/2019",
          "08/17/2019",
          "08/18/2019",
          "08/19/2019",
          "08/20/2019",
          "08/21/2019",
          "08/22/2019",
          "08/23/2019",
          "08/24/2019",
          "08/25/2019",
          "08/26/2019",
          "08/27/2019",
          "08/28/2019",
          "08/29/2019",
          "08/30/2019",
          "08/31/2019",
          "09/01/2019",
          "09/02/2019",
          "09/03/2019",
          "09/04/2019",
          "09/05/2019",
          "09/06/2019",
          "09/07/2019",
          "09/08/2019",
          "09/09/2019",
          "09/10/2019",
          "09/11/2019",
          "09/12/2019",
          "09/13/2019",
          "09/14/2019",
          "09/15/2019",
          "09/16/2019",
          "09/17/2019",
          "09/18/2019",
          "09/19/2019",
          "09/20/2019",
          "09/21/2019",
          "09/22/2019",
          "09/23/2019",
          "09/24/2019",
          "09/25/2019",
          "09/26/2019",
          "09/27/2019",
          "09/28/2019",
          "09/29/2019",
          "09/30/2019",
          "10/01/2019",
          "10/02/2019",
          "10/03/2019",
          "10/04/2019",
          "10/05/2019",
          "10/06/2019",
          "10/07/2019",
          "10/08/2019",
          "10/09/2019",
          "10/10/2019",
          "10/11/2019",
          "10/12/2019",
          "10/13/2019",
          "10/14/2019",
          "10/15/2019",
          "10/16/2019",
          "10/17/2019",
          "10/18/2019",
          "10/19/2019",
          "10/20/2019",
          "10/21/2019",
          "10/22/2019",
          "10/23/2019",
          "10/24/2019",
          "10/25/2019",
          "10/26/2019",
          "10/27/2019",
          "10/28/2019",
          "10/29/2019",
          "10/30/2019",
          "10/31/2019",
          "11/01/2019"
         ],
         "xaxis": "x",
         "y": [
          116901628,
          167408690,
          172023339,
          176140576,
          165235019,
          144087945,
          165174064,
          166318099,
          166164729,
          171164435,
          175846128,
          164946784,
          144144499,
          165992174,
          166781714,
          167444491,
          171744520,
          175933171,
          165175860,
          144093283,
          157958887,
          166699046,
          168618151,
          173159297,
          176639522,
          165581248,
          144026057,
          164351048,
          165478603,
          162428406,
          168597491,
          175617506,
          164713633,
          144856584,
          168265968,
          168797276,
          171924974,
          174121639,
          176856114,
          166483148,
          144492412,
          167223106,
          167075483,
          172802199,
          178089370,
          179457937,
          167415654,
          144355213,
          162252225,
          167530630,
          171009282,
          175352620,
          177964296,
          166677635,
          144476856,
          170168094,
          170195138,
          178381490,
          181269632,
          178092418,
          166861396,
          144443443,
          168696212,
          168265911,
          174066361,
          178236836,
          193910363,
          181101467,
          157702602,
          194290006,
          185980657,
          192986389,
          196734689,
          211655935,
          197341064,
          171637505,
          203575148,
          205002592,
          214569949,
          218046747,
          231318928,
          214960531,
          186352693,
          219110913,
          220664861,
          234816632,
          237186592,
          234169447,
          217084383,
          190138185,
          218390536,
          220195656,
          229546023,
          233554309,
          232674185,
          216125280,
          186146281,
          222128555,
          224596605,
          235789112,
          239320130,
          236982193,
          219544034,
          188661820,
          223892265,
          227051174,
          234668644,
          239523621,
          238329615,
          220850255,
          186354235,
          221478039,
          223956635,
          233342592,
          237483731,
          236016653,
          218850508,
          187061175,
          222513757,
          225214298,
          234610225,
          238786252,
          237122103,
          219765641,
          187367777,
          212869689,
          221296025,
          221229683,
          225674132,
          226720702,
          209027224,
          184781535,
          207192077,
          218502286,
          222004018,
          222325045,
          230025230,
          214250569,
          184102862,
          216036716,
          223534514,
          226717877,
          220840645,
          229086918,
          214837093,
          200284046,
          179090719,
          229181163,
          233225866,
          232783889,
          244281732,
          218796140,
          194721252,
          233008910,
          228795072,
          225332312,
          237862706,
          135811902,
          244355845,
          169235817,
          226062494,
          175319098,
          191294725,
          173472367,
          220453504,
          167184732,
          228424222,
          174510514,
          228666624,
          153509262,
          230200040,
          136273081,
          240284317,
          164788423,
          224640700,
          175216251,
          187159195,
          173281618,
          219535479,
          172944377,
          224238455,
          175863097,
          228033032,
          155499282,
          224447446,
          232332843,
          219381295,
          191305015,
          222764094,
          226599473,
          228808671,
          230794501,
          236823386,
          222480503,
          192986339,
          223187245,
          226577935,
          229890703,
          190660971,
          241572381,
          226569989,
          198841274,
          228347350,
          231825141,
          234352326,
          239576894,
          245539919,
          230541191,
          200982870,
          229589773,
          233684641,
          241333924,
          237942793,
          249046621,
          233830862,
          202993161,
          231826132,
          236014722,
          244646813,
          236213936,
          248199007,
          233474025,
          207085733,
          237131470,
          238801666,
          242672419,
          244719568,
          250075812,
          236071189,
          200904697,
          228789732,
          235602812,
          249968900,
          226041082,
          245555660,
          230558541,
          200989852,
          229590292,
          233681714,
          241330441,
          237941713,
          249059594,
          233841516,
          203015998,
          231858324,
          236048396,
          244676889,
          236243857,
          248238167,
          233509076,
          201633179,
          230074904,
          235105708,
          245317660,
          233401198,
          247609501,
          232615245,
          223087403,
          202434953,
          235174304,
          244434830,
          235022450,
          247992119,
          233062712,
          212589084,
          230649355,
          239756754,
          247123336,
          240242815,
          253033677,
          237768592,
          215168041,
          237176834,
          243786448,
          250109797,
          244776203,
          256487831,
          238914978,
          209251621,
          234127508,
          240774061,
          241781674,
          242190568,
          253231760,
          235481760,
          204412365,
          231372329,
          237831369,
          236797220,
          239449493,
          248994589,
          231307673,
          200101840,
          231597503,
          234586664,
          232684569,
          237654737,
          244924573,
          228552781,
          194498357,
          240197909,
          228741618,
          225431163,
          228830209,
          235122659,
          218416282,
          185936224,
          218770203,
          222093045,
          217718634,
          221843555,
          225088204,
          210933264,
          185290496,
          218429028,
          219920099,
          202434916,
          222299753,
          137038937
         ],
         "yaxis": "y"
        }
       ],
       "layout": {
        "legend": {
         "tracegroupgap": 0
        },
        "margin": {
         "t": 60
        },
        "template": {
         "data": {
          "bar": [
           {
            "error_x": {
             "color": "#2a3f5f"
            },
            "error_y": {
             "color": "#2a3f5f"
            },
            "marker": {
             "line": {
              "color": "#E5ECF6",
              "width": 0.5
             },
             "pattern": {
              "fillmode": "overlay",
              "size": 10,
              "solidity": 0.2
             }
            },
            "type": "bar"
           }
          ],
          "barpolar": [
           {
            "marker": {
             "line": {
              "color": "#E5ECF6",
              "width": 0.5
             },
             "pattern": {
              "fillmode": "overlay",
              "size": 10,
              "solidity": 0.2
             }
            },
            "type": "barpolar"
           }
          ],
          "carpet": [
           {
            "aaxis": {
             "endlinecolor": "#2a3f5f",
             "gridcolor": "white",
             "linecolor": "white",
             "minorgridcolor": "white",
             "startlinecolor": "#2a3f5f"
            },
            "baxis": {
             "endlinecolor": "#2a3f5f",
             "gridcolor": "white",
             "linecolor": "white",
             "minorgridcolor": "white",
             "startlinecolor": "#2a3f5f"
            },
            "type": "carpet"
           }
          ],
          "choropleth": [
           {
            "colorbar": {
             "outlinewidth": 0,
             "ticks": ""
            },
            "type": "choropleth"
           }
          ],
          "contour": [
           {
            "colorbar": {
             "outlinewidth": 0,
             "ticks": ""
            },
            "colorscale": [
             [
              0,
              "#0d0887"
             ],
             [
              0.1111111111111111,
              "#46039f"
             ],
             [
              0.2222222222222222,
              "#7201a8"
             ],
             [
              0.3333333333333333,
              "#9c179e"
             ],
             [
              0.4444444444444444,
              "#bd3786"
             ],
             [
              0.5555555555555556,
              "#d8576b"
             ],
             [
              0.6666666666666666,
              "#ed7953"
             ],
             [
              0.7777777777777778,
              "#fb9f3a"
             ],
             [
              0.8888888888888888,
              "#fdca26"
             ],
             [
              1,
              "#f0f921"
             ]
            ],
            "type": "contour"
           }
          ],
          "contourcarpet": [
           {
            "colorbar": {
             "outlinewidth": 0,
             "ticks": ""
            },
            "type": "contourcarpet"
           }
          ],
          "heatmap": [
           {
            "colorbar": {
             "outlinewidth": 0,
             "ticks": ""
            },
            "colorscale": [
             [
              0,
              "#0d0887"
             ],
             [
              0.1111111111111111,
              "#46039f"
             ],
             [
              0.2222222222222222,
              "#7201a8"
             ],
             [
              0.3333333333333333,
              "#9c179e"
             ],
             [
              0.4444444444444444,
              "#bd3786"
             ],
             [
              0.5555555555555556,
              "#d8576b"
             ],
             [
              0.6666666666666666,
              "#ed7953"
             ],
             [
              0.7777777777777778,
              "#fb9f3a"
             ],
             [
              0.8888888888888888,
              "#fdca26"
             ],
             [
              1,
              "#f0f921"
             ]
            ],
            "type": "heatmap"
           }
          ],
          "heatmapgl": [
           {
            "colorbar": {
             "outlinewidth": 0,
             "ticks": ""
            },
            "colorscale": [
             [
              0,
              "#0d0887"
             ],
             [
              0.1111111111111111,
              "#46039f"
             ],
             [
              0.2222222222222222,
              "#7201a8"
             ],
             [
              0.3333333333333333,
              "#9c179e"
             ],
             [
              0.4444444444444444,
              "#bd3786"
             ],
             [
              0.5555555555555556,
              "#d8576b"
             ],
             [
              0.6666666666666666,
              "#ed7953"
             ],
             [
              0.7777777777777778,
              "#fb9f3a"
             ],
             [
              0.8888888888888888,
              "#fdca26"
             ],
             [
              1,
              "#f0f921"
             ]
            ],
            "type": "heatmapgl"
           }
          ],
          "histogram": [
           {
            "marker": {
             "pattern": {
              "fillmode": "overlay",
              "size": 10,
              "solidity": 0.2
             }
            },
            "type": "histogram"
           }
          ],
          "histogram2d": [
           {
            "colorbar": {
             "outlinewidth": 0,
             "ticks": ""
            },
            "colorscale": [
             [
              0,
              "#0d0887"
             ],
             [
              0.1111111111111111,
              "#46039f"
             ],
             [
              0.2222222222222222,
              "#7201a8"
             ],
             [
              0.3333333333333333,
              "#9c179e"
             ],
             [
              0.4444444444444444,
              "#bd3786"
             ],
             [
              0.5555555555555556,
              "#d8576b"
             ],
             [
              0.6666666666666666,
              "#ed7953"
             ],
             [
              0.7777777777777778,
              "#fb9f3a"
             ],
             [
              0.8888888888888888,
              "#fdca26"
             ],
             [
              1,
              "#f0f921"
             ]
            ],
            "type": "histogram2d"
           }
          ],
          "histogram2dcontour": [
           {
            "colorbar": {
             "outlinewidth": 0,
             "ticks": ""
            },
            "colorscale": [
             [
              0,
              "#0d0887"
             ],
             [
              0.1111111111111111,
              "#46039f"
             ],
             [
              0.2222222222222222,
              "#7201a8"
             ],
             [
              0.3333333333333333,
              "#9c179e"
             ],
             [
              0.4444444444444444,
              "#bd3786"
             ],
             [
              0.5555555555555556,
              "#d8576b"
             ],
             [
              0.6666666666666666,
              "#ed7953"
             ],
             [
              0.7777777777777778,
              "#fb9f3a"
             ],
             [
              0.8888888888888888,
              "#fdca26"
             ],
             [
              1,
              "#f0f921"
             ]
            ],
            "type": "histogram2dcontour"
           }
          ],
          "mesh3d": [
           {
            "colorbar": {
             "outlinewidth": 0,
             "ticks": ""
            },
            "type": "mesh3d"
           }
          ],
          "parcoords": [
           {
            "line": {
             "colorbar": {
              "outlinewidth": 0,
              "ticks": ""
             }
            },
            "type": "parcoords"
           }
          ],
          "pie": [
           {
            "automargin": true,
            "type": "pie"
           }
          ],
          "scatter": [
           {
            "fillpattern": {
             "fillmode": "overlay",
             "size": 10,
             "solidity": 0.2
            },
            "type": "scatter"
           }
          ],
          "scatter3d": [
           {
            "line": {
             "colorbar": {
              "outlinewidth": 0,
              "ticks": ""
             }
            },
            "marker": {
             "colorbar": {
              "outlinewidth": 0,
              "ticks": ""
             }
            },
            "type": "scatter3d"
           }
          ],
          "scattercarpet": [
           {
            "marker": {
             "colorbar": {
              "outlinewidth": 0,
              "ticks": ""
             }
            },
            "type": "scattercarpet"
           }
          ],
          "scattergeo": [
           {
            "marker": {
             "colorbar": {
              "outlinewidth": 0,
              "ticks": ""
             }
            },
            "type": "scattergeo"
           }
          ],
          "scattergl": [
           {
            "marker": {
             "colorbar": {
              "outlinewidth": 0,
              "ticks": ""
             }
            },
            "type": "scattergl"
           }
          ],
          "scattermapbox": [
           {
            "marker": {
             "colorbar": {
              "outlinewidth": 0,
              "ticks": ""
             }
            },
            "type": "scattermapbox"
           }
          ],
          "scatterpolar": [
           {
            "marker": {
             "colorbar": {
              "outlinewidth": 0,
              "ticks": ""
             }
            },
            "type": "scatterpolar"
           }
          ],
          "scatterpolargl": [
           {
            "marker": {
             "colorbar": {
              "outlinewidth": 0,
              "ticks": ""
             }
            },
            "type": "scatterpolargl"
           }
          ],
          "scatterternary": [
           {
            "marker": {
             "colorbar": {
              "outlinewidth": 0,
              "ticks": ""
             }
            },
            "type": "scatterternary"
           }
          ],
          "surface": [
           {
            "colorbar": {
             "outlinewidth": 0,
             "ticks": ""
            },
            "colorscale": [
             [
              0,
              "#0d0887"
             ],
             [
              0.1111111111111111,
              "#46039f"
             ],
             [
              0.2222222222222222,
              "#7201a8"
             ],
             [
              0.3333333333333333,
              "#9c179e"
             ],
             [
              0.4444444444444444,
              "#bd3786"
             ],
             [
              0.5555555555555556,
              "#d8576b"
             ],
             [
              0.6666666666666666,
              "#ed7953"
             ],
             [
              0.7777777777777778,
              "#fb9f3a"
             ],
             [
              0.8888888888888888,
              "#fdca26"
             ],
             [
              1,
              "#f0f921"
             ]
            ],
            "type": "surface"
           }
          ],
          "table": [
           {
            "cells": {
             "fill": {
              "color": "#EBF0F8"
             },
             "line": {
              "color": "white"
             }
            },
            "header": {
             "fill": {
              "color": "#C8D4E3"
             },
             "line": {
              "color": "white"
             }
            },
            "type": "table"
           }
          ]
         },
         "layout": {
          "annotationdefaults": {
           "arrowcolor": "#2a3f5f",
           "arrowhead": 0,
           "arrowwidth": 1
          },
          "autotypenumbers": "strict",
          "coloraxis": {
           "colorbar": {
            "outlinewidth": 0,
            "ticks": ""
           }
          },
          "colorscale": {
           "diverging": [
            [
             0,
             "#8e0152"
            ],
            [
             0.1,
             "#c51b7d"
            ],
            [
             0.2,
             "#de77ae"
            ],
            [
             0.3,
             "#f1b6da"
            ],
            [
             0.4,
             "#fde0ef"
            ],
            [
             0.5,
             "#f7f7f7"
            ],
            [
             0.6,
             "#e6f5d0"
            ],
            [
             0.7,
             "#b8e186"
            ],
            [
             0.8,
             "#7fbc41"
            ],
            [
             0.9,
             "#4d9221"
            ],
            [
             1,
             "#276419"
            ]
           ],
           "sequential": [
            [
             0,
             "#0d0887"
            ],
            [
             0.1111111111111111,
             "#46039f"
            ],
            [
             0.2222222222222222,
             "#7201a8"
            ],
            [
             0.3333333333333333,
             "#9c179e"
            ],
            [
             0.4444444444444444,
             "#bd3786"
            ],
            [
             0.5555555555555556,
             "#d8576b"
            ],
            [
             0.6666666666666666,
             "#ed7953"
            ],
            [
             0.7777777777777778,
             "#fb9f3a"
            ],
            [
             0.8888888888888888,
             "#fdca26"
            ],
            [
             1,
             "#f0f921"
            ]
           ],
           "sequentialminus": [
            [
             0,
             "#0d0887"
            ],
            [
             0.1111111111111111,
             "#46039f"
            ],
            [
             0.2222222222222222,
             "#7201a8"
            ],
            [
             0.3333333333333333,
             "#9c179e"
            ],
            [
             0.4444444444444444,
             "#bd3786"
            ],
            [
             0.5555555555555556,
             "#d8576b"
            ],
            [
             0.6666666666666666,
             "#ed7953"
            ],
            [
             0.7777777777777778,
             "#fb9f3a"
            ],
            [
             0.8888888888888888,
             "#fdca26"
            ],
            [
             1,
             "#f0f921"
            ]
           ]
          },
          "colorway": [
           "#636efa",
           "#EF553B",
           "#00cc96",
           "#ab63fa",
           "#FFA15A",
           "#19d3f3",
           "#FF6692",
           "#B6E880",
           "#FF97FF",
           "#FECB52"
          ],
          "font": {
           "color": "#2a3f5f"
          },
          "geo": {
           "bgcolor": "white",
           "lakecolor": "white",
           "landcolor": "#E5ECF6",
           "showlakes": true,
           "showland": true,
           "subunitcolor": "white"
          },
          "hoverlabel": {
           "align": "left"
          },
          "hovermode": "closest",
          "mapbox": {
           "style": "light"
          },
          "paper_bgcolor": "white",
          "plot_bgcolor": "#E5ECF6",
          "polar": {
           "angularaxis": {
            "gridcolor": "white",
            "linecolor": "white",
            "ticks": ""
           },
           "bgcolor": "#E5ECF6",
           "radialaxis": {
            "gridcolor": "white",
            "linecolor": "white",
            "ticks": ""
           }
          },
          "scene": {
           "xaxis": {
            "backgroundcolor": "#E5ECF6",
            "gridcolor": "white",
            "gridwidth": 2,
            "linecolor": "white",
            "showbackground": true,
            "ticks": "",
            "zerolinecolor": "white"
           },
           "yaxis": {
            "backgroundcolor": "#E5ECF6",
            "gridcolor": "white",
            "gridwidth": 2,
            "linecolor": "white",
            "showbackground": true,
            "ticks": "",
            "zerolinecolor": "white"
           },
           "zaxis": {
            "backgroundcolor": "#E5ECF6",
            "gridcolor": "white",
            "gridwidth": 2,
            "linecolor": "white",
            "showbackground": true,
            "ticks": "",
            "zerolinecolor": "white"
           }
          },
          "shapedefaults": {
           "line": {
            "color": "#2a3f5f"
           }
          },
          "ternary": {
           "aaxis": {
            "gridcolor": "white",
            "linecolor": "white",
            "ticks": ""
           },
           "baxis": {
            "gridcolor": "white",
            "linecolor": "white",
            "ticks": ""
           },
           "bgcolor": "#E5ECF6",
           "caxis": {
            "gridcolor": "white",
            "linecolor": "white",
            "ticks": ""
           }
          },
          "title": {
           "x": 0.05
          },
          "xaxis": {
           "automargin": true,
           "gridcolor": "white",
           "linecolor": "white",
           "ticks": "",
           "title": {
            "standoff": 15
           },
           "zerolinecolor": "white",
           "zerolinewidth": 2
          },
          "yaxis": {
           "automargin": true,
           "gridcolor": "white",
           "linecolor": "white",
           "ticks": "",
           "title": {
            "standoff": 15
           },
           "zerolinecolor": "white",
           "zerolinewidth": 2
          }
         }
        },
        "xaxis": {
         "anchor": "y",
         "domain": [
          0,
          1
         ],
         "title": {
          "text": "x"
         }
        },
        "yaxis": {
         "anchor": "x",
         "domain": [
          0,
          1
         ],
         "title": {
          "text": "y"
         }
        }
       }
      }
     },
     "metadata": {},
     "output_type": "display_data"
    },
    {
     "data": {
      "application/vnd.plotly.v1+json": {
       "config": {
        "plotlyServerURL": "https://plot.ly"
       },
       "data": [
        {
         "hovertemplate": "x=%{x}<br>y=%{y}<extra></extra>",
         "legendgroup": "",
         "marker": {
          "color": "#636efa",
          "symbol": "circle"
         },
         "mode": "markers",
         "name": "",
         "orientation": "v",
         "showlegend": false,
         "type": "scatter",
         "x": [
          "01/01/2019",
          "01/02/2019",
          "01/03/2019",
          "01/04/2019",
          "01/05/2019",
          "01/06/2019",
          "01/07/2019",
          "01/08/2019",
          "01/09/2019",
          "01/10/2019",
          "01/11/2019",
          "01/12/2019",
          "01/13/2019",
          "01/14/2019",
          "01/15/2019",
          "01/16/2019",
          "01/17/2019",
          "01/18/2019",
          "01/19/2019",
          "01/20/2019",
          "01/21/2019",
          "01/22/2019",
          "01/23/2019",
          "01/24/2019",
          "01/25/2019",
          "01/26/2019",
          "01/27/2019",
          "01/28/2019",
          "01/29/2019",
          "01/30/2019",
          "01/31/2019",
          "02/01/2019",
          "02/02/2019",
          "02/03/2019",
          "02/04/2019",
          "02/05/2019",
          "02/06/2019",
          "02/07/2019",
          "02/08/2019",
          "02/09/2019",
          "02/10/2019",
          "02/11/2019",
          "02/12/2019",
          "02/13/2019",
          "02/14/2019",
          "02/15/2019",
          "02/16/2019",
          "02/17/2019",
          "02/18/2019",
          "02/19/2019",
          "02/20/2019",
          "02/21/2019",
          "02/22/2019",
          "02/23/2019",
          "02/24/2019",
          "02/25/2019",
          "02/26/2019",
          "02/27/2019",
          "02/28/2019",
          "03/01/2019",
          "03/02/2019",
          "03/03/2019",
          "03/04/2019",
          "03/05/2019",
          "03/06/2019",
          "03/07/2019",
          "03/08/2019",
          "03/09/2019",
          "03/10/2019",
          "03/11/2019",
          "03/12/2019",
          "03/13/2019",
          "03/14/2019",
          "03/15/2019",
          "03/16/2019",
          "03/17/2019",
          "03/18/2019",
          "03/19/2019",
          "03/20/2019",
          "03/21/2019",
          "03/22/2019",
          "03/23/2019",
          "03/24/2019",
          "03/25/2019",
          "03/26/2019",
          "03/27/2019",
          "03/28/2019",
          "03/29/2019",
          "03/30/2019",
          "03/31/2019",
          "04/01/2019",
          "04/02/2019",
          "04/03/2019",
          "04/04/2019",
          "04/05/2019",
          "04/06/2019",
          "04/07/2019",
          "04/08/2019",
          "04/09/2019",
          "04/10/2019",
          "04/11/2019",
          "04/12/2019",
          "04/13/2019",
          "04/14/2019",
          "04/15/2019",
          "04/16/2019",
          "04/17/2019",
          "04/18/2019",
          "04/19/2019",
          "04/20/2019",
          "04/21/2019",
          "04/22/2019",
          "04/23/2019",
          "04/24/2019",
          "04/25/2019",
          "04/26/2019",
          "04/27/2019",
          "04/28/2019",
          "04/29/2019",
          "04/30/2019",
          "05/01/2019",
          "05/02/2019",
          "05/03/2019",
          "05/04/2019",
          "05/05/2019",
          "05/06/2019",
          "05/07/2019",
          "05/08/2019",
          "05/09/2019",
          "05/10/2019",
          "05/11/2019",
          "05/12/2019",
          "05/13/2019",
          "05/14/2019",
          "05/15/2019",
          "05/16/2019",
          "05/17/2019",
          "05/18/2019",
          "05/19/2019",
          "05/20/2019",
          "05/21/2019",
          "05/22/2019",
          "05/23/2019",
          "05/24/2019",
          "05/25/2019",
          "05/26/2019",
          "05/27/2019",
          "05/28/2019",
          "05/29/2019",
          "05/30/2019",
          "05/31/2019",
          "06/01/2019",
          "06/02/2019",
          "06/03/2019",
          "06/04/2019",
          "06/05/2019",
          "06/06/2019",
          "06/06/2021",
          "06/07/2019",
          "06/07/2021",
          "06/08/2019",
          "06/08/2021",
          "06/09/2019",
          "06/09/2021",
          "06/10/2019",
          "06/10/2021",
          "06/11/2019",
          "06/11/2021",
          "06/12/2019",
          "06/12/2021",
          "06/13/2019",
          "06/13/2021",
          "06/14/2019",
          "06/14/2021",
          "06/15/2019",
          "06/15/2021",
          "06/16/2019",
          "06/16/2021",
          "06/17/2019",
          "06/17/2021",
          "06/18/2019",
          "06/18/2021",
          "06/19/2019",
          "06/19/2021",
          "06/20/2019",
          "06/21/2019",
          "06/22/2019",
          "06/23/2019",
          "06/24/2019",
          "06/25/2019",
          "06/26/2019",
          "06/27/2019",
          "06/28/2019",
          "06/29/2019",
          "06/30/2019",
          "07/01/2019",
          "07/02/2019",
          "07/03/2019",
          "07/04/2019",
          "07/05/2019",
          "07/06/2019",
          "07/07/2019",
          "07/08/2019",
          "07/09/2019",
          "07/10/2019",
          "07/11/2019",
          "07/12/2019",
          "07/13/2019",
          "07/14/2019",
          "07/15/2019",
          "07/16/2019",
          "07/17/2019",
          "07/18/2019",
          "07/19/2019",
          "07/20/2019",
          "07/21/2019",
          "07/22/2019",
          "07/23/2019",
          "07/24/2019",
          "07/25/2019",
          "07/26/2019",
          "07/27/2019",
          "07/28/2019",
          "07/29/2019",
          "07/30/2019",
          "07/31/2019",
          "08/01/2019",
          "08/02/2019",
          "08/03/2019",
          "08/04/2019",
          "08/05/2019",
          "08/06/2019",
          "08/07/2019",
          "08/08/2019",
          "08/09/2019",
          "08/10/2019",
          "08/11/2019",
          "08/12/2019",
          "08/13/2019",
          "08/14/2019",
          "08/15/2019",
          "08/16/2019",
          "08/17/2019",
          "08/18/2019",
          "08/19/2019",
          "08/20/2019",
          "08/21/2019",
          "08/22/2019",
          "08/23/2019",
          "08/24/2019",
          "08/25/2019",
          "08/26/2019",
          "08/27/2019",
          "08/28/2019",
          "08/29/2019",
          "08/30/2019",
          "08/31/2019",
          "09/01/2019",
          "09/02/2019",
          "09/03/2019",
          "09/04/2019",
          "09/05/2019",
          "09/06/2019",
          "09/07/2019",
          "09/08/2019",
          "09/09/2019",
          "09/10/2019",
          "09/11/2019",
          "09/12/2019",
          "09/13/2019",
          "09/14/2019",
          "09/15/2019",
          "09/16/2019",
          "09/17/2019",
          "09/18/2019",
          "09/19/2019",
          "09/20/2019",
          "09/21/2019",
          "09/22/2019",
          "09/23/2019",
          "09/24/2019",
          "09/25/2019",
          "09/26/2019",
          "09/27/2019",
          "09/28/2019",
          "09/29/2019",
          "09/30/2019",
          "10/01/2019",
          "10/02/2019",
          "10/03/2019",
          "10/04/2019",
          "10/05/2019",
          "10/06/2019",
          "10/07/2019",
          "10/08/2019",
          "10/09/2019",
          "10/10/2019",
          "10/11/2019",
          "10/12/2019",
          "10/13/2019",
          "10/14/2019",
          "10/15/2019",
          "10/16/2019",
          "10/17/2019",
          "10/18/2019",
          "10/19/2019",
          "10/20/2019",
          "10/21/2019",
          "10/22/2019",
          "10/23/2019",
          "10/24/2019",
          "10/25/2019",
          "10/26/2019",
          "10/27/2019",
          "10/28/2019",
          "10/29/2019",
          "10/30/2019",
          "10/31/2019"
         ],
         "xaxis": "x",
         "y": [
          15686088,
          17738492,
          18365914,
          19315047,
          19362964,
          17418347,
          17490868,
          17368726,
          17542454,
          18087089,
          19056444,
          19154385,
          17210339,
          17633094,
          17369872,
          17702484,
          18342048,
          19265004,
          19322989,
          17477496,
          18330369,
          17572289,
          17972242,
          18665963,
          19621288,
          19612172,
          17564856,
          17348055,
          17166022,
          16952179,
          17254038,
          18352165,
          18595642,
          16650248,
          17985585,
          17435207,
          18251034,
          19177396,
          19961744,
          19906735,
          18349085,
          18814045,
          18250055,
          18853731,
          19712559,
          20773473,
          20559871,
          17897376,
          18445661,
          17810200,
          18363645,
          19160116,
          20121574,
          20032734,
          17865423,
          18885509,
          18237561,
          17499230,
          18068250,
          20285691,
          20166328,
          18037438,
          18849523,
          18099392,
          18237073,
          18979025,
          21471631,
          21402831,
          19061239,
          20530669,
          19245033,
          18838542,
          19493837,
          22009720,
          22109698,
          20166309,
          21001597,
          20505017,
          19379595,
          19931603,
          22501528,
          22769766,
          21190240,
          22753647,
          22272452,
          20051573,
          20471598,
          21606507,
          22015213,
          20782916,
          22165546,
          21680258,
          20646328,
          21246320,
          22382080,
          22668092,
          21189160,
          21935734,
          21590328,
          19983056,
          20478706,
          21601802,
          21997056,
          20920407,
          21192422,
          20924428,
          20153620,
          20735322,
          21827672,
          22222540,
          21181181,
          21770956,
          21406797,
          20269931,
          20826214,
          21952141,
          22300536,
          21116677,
          21638874,
          21314321,
          20144995,
          20683714,
          21801484,
          22190192,
          21082294,
          16661927,
          16857104,
          16959753,
          17604030,
          18866619,
          19440256,
          18637749,
          16902241,
          16773822,
          17365509,
          17858659,
          19406062,
          19543284,
          18315705,
          17010983,
          16985297,
          17461862,
          17935452,
          20423182,
          20506609,
          19827953,
          19177022,
          17878641,
          17721676,
          18099928,
          20063856,
          20041135,
          19194555,
          18047277,
          17666059,
          17794046,
          18801146,
          19064535,
          20432481,
          16385380,
          20623867,
          16833606,
          19673628,
          16711598,
          18297647,
          16728196,
          17753847,
          19330849,
          18134133,
          20699270,
          18735871,
          19816686,
          20805601,
          16088828,
          21176141,
          16768144,
          20175157,
          16763039,
          18240766,
          16827307,
          17731264,
          19307634,
          18122769,
          21231536,
          18771995,
          20428112,
          20950201,
          20173337,
          18516091,
          18293101,
          18612715,
          19246198,
          20605402,
          21199015,
          20394680,
          18583487,
          18323160,
          18675589,
          19513683,
          20663302,
          21262949,
          20554922,
          18539572,
          17911386,
          18266373,
          18781476,
          20487780,
          21195827,
          20293543,
          18115258,
          17540810,
          17998290,
          18243437,
          20483484,
          21202332,
          20207774,
          17992308,
          17442214,
          17884095,
          18050505,
          20379875,
          21167608,
          20419005,
          18042206,
          17338614,
          17845605,
          18452778,
          20172390,
          21097068,
          19909131,
          17816616,
          17448118,
          17816246,
          17466996,
          20491105,
          21182658,
          20291109,
          18113957,
          17541059,
          17997991,
          18248611,
          20483996,
          21201217,
          20213130,
          17997364,
          17449644,
          17891767,
          18060666,
          20388023,
          21180768,
          20136832,
          17977202,
          17480073,
          17903950,
          17923210,
          20453635,
          21189919,
          21393222,
          21795108,
          17469054,
          17899198,
          18002238,
          20417640,
          21168638,
          20777382,
          17972244,
          17342267,
          17587557,
          17860810,
          20275788,
          21066682,
          20648651,
          17767965,
          17151666,
          17365821,
          17756565,
          19993039,
          20623057,
          19743742,
          16933413,
          16489069,
          16349724,
          17007941,
          19254267,
          19956486,
          18894237,
          16314691,
          16085199,
          15784578,
          16519423,
          18607472,
          19297649,
          18115957,
          15743654,
          15589365,
          15292941,
          16124803,
          17810858,
          18491177,
          17197573,
          20855243,
          15230296,
          15106434,
          15732677,
          17196044,
          17702301,
          16333845,
          15194511,
          15139536,
          15276984,
          15353261,
          16980126,
          17513037,
          16726394,
          14612900,
          14143851,
          12789377,
          14260908
         ],
         "yaxis": "y"
        }
       ],
       "layout": {
        "legend": {
         "tracegroupgap": 0
        },
        "margin": {
         "t": 60
        },
        "template": {
         "data": {
          "bar": [
           {
            "error_x": {
             "color": "#2a3f5f"
            },
            "error_y": {
             "color": "#2a3f5f"
            },
            "marker": {
             "line": {
              "color": "#E5ECF6",
              "width": 0.5
             },
             "pattern": {
              "fillmode": "overlay",
              "size": 10,
              "solidity": 0.2
             }
            },
            "type": "bar"
           }
          ],
          "barpolar": [
           {
            "marker": {
             "line": {
              "color": "#E5ECF6",
              "width": 0.5
             },
             "pattern": {
              "fillmode": "overlay",
              "size": 10,
              "solidity": 0.2
             }
            },
            "type": "barpolar"
           }
          ],
          "carpet": [
           {
            "aaxis": {
             "endlinecolor": "#2a3f5f",
             "gridcolor": "white",
             "linecolor": "white",
             "minorgridcolor": "white",
             "startlinecolor": "#2a3f5f"
            },
            "baxis": {
             "endlinecolor": "#2a3f5f",
             "gridcolor": "white",
             "linecolor": "white",
             "minorgridcolor": "white",
             "startlinecolor": "#2a3f5f"
            },
            "type": "carpet"
           }
          ],
          "choropleth": [
           {
            "colorbar": {
             "outlinewidth": 0,
             "ticks": ""
            },
            "type": "choropleth"
           }
          ],
          "contour": [
           {
            "colorbar": {
             "outlinewidth": 0,
             "ticks": ""
            },
            "colorscale": [
             [
              0,
              "#0d0887"
             ],
             [
              0.1111111111111111,
              "#46039f"
             ],
             [
              0.2222222222222222,
              "#7201a8"
             ],
             [
              0.3333333333333333,
              "#9c179e"
             ],
             [
              0.4444444444444444,
              "#bd3786"
             ],
             [
              0.5555555555555556,
              "#d8576b"
             ],
             [
              0.6666666666666666,
              "#ed7953"
             ],
             [
              0.7777777777777778,
              "#fb9f3a"
             ],
             [
              0.8888888888888888,
              "#fdca26"
             ],
             [
              1,
              "#f0f921"
             ]
            ],
            "type": "contour"
           }
          ],
          "contourcarpet": [
           {
            "colorbar": {
             "outlinewidth": 0,
             "ticks": ""
            },
            "type": "contourcarpet"
           }
          ],
          "heatmap": [
           {
            "colorbar": {
             "outlinewidth": 0,
             "ticks": ""
            },
            "colorscale": [
             [
              0,
              "#0d0887"
             ],
             [
              0.1111111111111111,
              "#46039f"
             ],
             [
              0.2222222222222222,
              "#7201a8"
             ],
             [
              0.3333333333333333,
              "#9c179e"
             ],
             [
              0.4444444444444444,
              "#bd3786"
             ],
             [
              0.5555555555555556,
              "#d8576b"
             ],
             [
              0.6666666666666666,
              "#ed7953"
             ],
             [
              0.7777777777777778,
              "#fb9f3a"
             ],
             [
              0.8888888888888888,
              "#fdca26"
             ],
             [
              1,
              "#f0f921"
             ]
            ],
            "type": "heatmap"
           }
          ],
          "heatmapgl": [
           {
            "colorbar": {
             "outlinewidth": 0,
             "ticks": ""
            },
            "colorscale": [
             [
              0,
              "#0d0887"
             ],
             [
              0.1111111111111111,
              "#46039f"
             ],
             [
              0.2222222222222222,
              "#7201a8"
             ],
             [
              0.3333333333333333,
              "#9c179e"
             ],
             [
              0.4444444444444444,
              "#bd3786"
             ],
             [
              0.5555555555555556,
              "#d8576b"
             ],
             [
              0.6666666666666666,
              "#ed7953"
             ],
             [
              0.7777777777777778,
              "#fb9f3a"
             ],
             [
              0.8888888888888888,
              "#fdca26"
             ],
             [
              1,
              "#f0f921"
             ]
            ],
            "type": "heatmapgl"
           }
          ],
          "histogram": [
           {
            "marker": {
             "pattern": {
              "fillmode": "overlay",
              "size": 10,
              "solidity": 0.2
             }
            },
            "type": "histogram"
           }
          ],
          "histogram2d": [
           {
            "colorbar": {
             "outlinewidth": 0,
             "ticks": ""
            },
            "colorscale": [
             [
              0,
              "#0d0887"
             ],
             [
              0.1111111111111111,
              "#46039f"
             ],
             [
              0.2222222222222222,
              "#7201a8"
             ],
             [
              0.3333333333333333,
              "#9c179e"
             ],
             [
              0.4444444444444444,
              "#bd3786"
             ],
             [
              0.5555555555555556,
              "#d8576b"
             ],
             [
              0.6666666666666666,
              "#ed7953"
             ],
             [
              0.7777777777777778,
              "#fb9f3a"
             ],
             [
              0.8888888888888888,
              "#fdca26"
             ],
             [
              1,
              "#f0f921"
             ]
            ],
            "type": "histogram2d"
           }
          ],
          "histogram2dcontour": [
           {
            "colorbar": {
             "outlinewidth": 0,
             "ticks": ""
            },
            "colorscale": [
             [
              0,
              "#0d0887"
             ],
             [
              0.1111111111111111,
              "#46039f"
             ],
             [
              0.2222222222222222,
              "#7201a8"
             ],
             [
              0.3333333333333333,
              "#9c179e"
             ],
             [
              0.4444444444444444,
              "#bd3786"
             ],
             [
              0.5555555555555556,
              "#d8576b"
             ],
             [
              0.6666666666666666,
              "#ed7953"
             ],
             [
              0.7777777777777778,
              "#fb9f3a"
             ],
             [
              0.8888888888888888,
              "#fdca26"
             ],
             [
              1,
              "#f0f921"
             ]
            ],
            "type": "histogram2dcontour"
           }
          ],
          "mesh3d": [
           {
            "colorbar": {
             "outlinewidth": 0,
             "ticks": ""
            },
            "type": "mesh3d"
           }
          ],
          "parcoords": [
           {
            "line": {
             "colorbar": {
              "outlinewidth": 0,
              "ticks": ""
             }
            },
            "type": "parcoords"
           }
          ],
          "pie": [
           {
            "automargin": true,
            "type": "pie"
           }
          ],
          "scatter": [
           {
            "fillpattern": {
             "fillmode": "overlay",
             "size": 10,
             "solidity": 0.2
            },
            "type": "scatter"
           }
          ],
          "scatter3d": [
           {
            "line": {
             "colorbar": {
              "outlinewidth": 0,
              "ticks": ""
             }
            },
            "marker": {
             "colorbar": {
              "outlinewidth": 0,
              "ticks": ""
             }
            },
            "type": "scatter3d"
           }
          ],
          "scattercarpet": [
           {
            "marker": {
             "colorbar": {
              "outlinewidth": 0,
              "ticks": ""
             }
            },
            "type": "scattercarpet"
           }
          ],
          "scattergeo": [
           {
            "marker": {
             "colorbar": {
              "outlinewidth": 0,
              "ticks": ""
             }
            },
            "type": "scattergeo"
           }
          ],
          "scattergl": [
           {
            "marker": {
             "colorbar": {
              "outlinewidth": 0,
              "ticks": ""
             }
            },
            "type": "scattergl"
           }
          ],
          "scattermapbox": [
           {
            "marker": {
             "colorbar": {
              "outlinewidth": 0,
              "ticks": ""
             }
            },
            "type": "scattermapbox"
           }
          ],
          "scatterpolar": [
           {
            "marker": {
             "colorbar": {
              "outlinewidth": 0,
              "ticks": ""
             }
            },
            "type": "scatterpolar"
           }
          ],
          "scatterpolargl": [
           {
            "marker": {
             "colorbar": {
              "outlinewidth": 0,
              "ticks": ""
             }
            },
            "type": "scatterpolargl"
           }
          ],
          "scatterternary": [
           {
            "marker": {
             "colorbar": {
              "outlinewidth": 0,
              "ticks": ""
             }
            },
            "type": "scatterternary"
           }
          ],
          "surface": [
           {
            "colorbar": {
             "outlinewidth": 0,
             "ticks": ""
            },
            "colorscale": [
             [
              0,
              "#0d0887"
             ],
             [
              0.1111111111111111,
              "#46039f"
             ],
             [
              0.2222222222222222,
              "#7201a8"
             ],
             [
              0.3333333333333333,
              "#9c179e"
             ],
             [
              0.4444444444444444,
              "#bd3786"
             ],
             [
              0.5555555555555556,
              "#d8576b"
             ],
             [
              0.6666666666666666,
              "#ed7953"
             ],
             [
              0.7777777777777778,
              "#fb9f3a"
             ],
             [
              0.8888888888888888,
              "#fdca26"
             ],
             [
              1,
              "#f0f921"
             ]
            ],
            "type": "surface"
           }
          ],
          "table": [
           {
            "cells": {
             "fill": {
              "color": "#EBF0F8"
             },
             "line": {
              "color": "white"
             }
            },
            "header": {
             "fill": {
              "color": "#C8D4E3"
             },
             "line": {
              "color": "white"
             }
            },
            "type": "table"
           }
          ]
         },
         "layout": {
          "annotationdefaults": {
           "arrowcolor": "#2a3f5f",
           "arrowhead": 0,
           "arrowwidth": 1
          },
          "autotypenumbers": "strict",
          "coloraxis": {
           "colorbar": {
            "outlinewidth": 0,
            "ticks": ""
           }
          },
          "colorscale": {
           "diverging": [
            [
             0,
             "#8e0152"
            ],
            [
             0.1,
             "#c51b7d"
            ],
            [
             0.2,
             "#de77ae"
            ],
            [
             0.3,
             "#f1b6da"
            ],
            [
             0.4,
             "#fde0ef"
            ],
            [
             0.5,
             "#f7f7f7"
            ],
            [
             0.6,
             "#e6f5d0"
            ],
            [
             0.7,
             "#b8e186"
            ],
            [
             0.8,
             "#7fbc41"
            ],
            [
             0.9,
             "#4d9221"
            ],
            [
             1,
             "#276419"
            ]
           ],
           "sequential": [
            [
             0,
             "#0d0887"
            ],
            [
             0.1111111111111111,
             "#46039f"
            ],
            [
             0.2222222222222222,
             "#7201a8"
            ],
            [
             0.3333333333333333,
             "#9c179e"
            ],
            [
             0.4444444444444444,
             "#bd3786"
            ],
            [
             0.5555555555555556,
             "#d8576b"
            ],
            [
             0.6666666666666666,
             "#ed7953"
            ],
            [
             0.7777777777777778,
             "#fb9f3a"
            ],
            [
             0.8888888888888888,
             "#fdca26"
            ],
            [
             1,
             "#f0f921"
            ]
           ],
           "sequentialminus": [
            [
             0,
             "#0d0887"
            ],
            [
             0.1111111111111111,
             "#46039f"
            ],
            [
             0.2222222222222222,
             "#7201a8"
            ],
            [
             0.3333333333333333,
             "#9c179e"
            ],
            [
             0.4444444444444444,
             "#bd3786"
            ],
            [
             0.5555555555555556,
             "#d8576b"
            ],
            [
             0.6666666666666666,
             "#ed7953"
            ],
            [
             0.7777777777777778,
             "#fb9f3a"
            ],
            [
             0.8888888888888888,
             "#fdca26"
            ],
            [
             1,
             "#f0f921"
            ]
           ]
          },
          "colorway": [
           "#636efa",
           "#EF553B",
           "#00cc96",
           "#ab63fa",
           "#FFA15A",
           "#19d3f3",
           "#FF6692",
           "#B6E880",
           "#FF97FF",
           "#FECB52"
          ],
          "font": {
           "color": "#2a3f5f"
          },
          "geo": {
           "bgcolor": "white",
           "lakecolor": "white",
           "landcolor": "#E5ECF6",
           "showlakes": true,
           "showland": true,
           "subunitcolor": "white"
          },
          "hoverlabel": {
           "align": "left"
          },
          "hovermode": "closest",
          "mapbox": {
           "style": "light"
          },
          "paper_bgcolor": "white",
          "plot_bgcolor": "#E5ECF6",
          "polar": {
           "angularaxis": {
            "gridcolor": "white",
            "linecolor": "white",
            "ticks": ""
           },
           "bgcolor": "#E5ECF6",
           "radialaxis": {
            "gridcolor": "white",
            "linecolor": "white",
            "ticks": ""
           }
          },
          "scene": {
           "xaxis": {
            "backgroundcolor": "#E5ECF6",
            "gridcolor": "white",
            "gridwidth": 2,
            "linecolor": "white",
            "showbackground": true,
            "ticks": "",
            "zerolinecolor": "white"
           },
           "yaxis": {
            "backgroundcolor": "#E5ECF6",
            "gridcolor": "white",
            "gridwidth": 2,
            "linecolor": "white",
            "showbackground": true,
            "ticks": "",
            "zerolinecolor": "white"
           },
           "zaxis": {
            "backgroundcolor": "#E5ECF6",
            "gridcolor": "white",
            "gridwidth": 2,
            "linecolor": "white",
            "showbackground": true,
            "ticks": "",
            "zerolinecolor": "white"
           }
          },
          "shapedefaults": {
           "line": {
            "color": "#2a3f5f"
           }
          },
          "ternary": {
           "aaxis": {
            "gridcolor": "white",
            "linecolor": "white",
            "ticks": ""
           },
           "baxis": {
            "gridcolor": "white",
            "linecolor": "white",
            "ticks": ""
           },
           "bgcolor": "#E5ECF6",
           "caxis": {
            "gridcolor": "white",
            "linecolor": "white",
            "ticks": ""
           }
          },
          "title": {
           "x": 0.05
          },
          "xaxis": {
           "automargin": true,
           "gridcolor": "white",
           "linecolor": "white",
           "ticks": "",
           "title": {
            "standoff": 15
           },
           "zerolinecolor": "white",
           "zerolinewidth": 2
          },
          "yaxis": {
           "automargin": true,
           "gridcolor": "white",
           "linecolor": "white",
           "ticks": "",
           "title": {
            "standoff": 15
           },
           "zerolinecolor": "white",
           "zerolinewidth": 2
          }
         }
        },
        "xaxis": {
         "anchor": "y",
         "domain": [
          0,
          1
         ],
         "title": {
          "text": "x"
         }
        },
        "yaxis": {
         "anchor": "x",
         "domain": [
          0,
          1
         ],
         "title": {
          "text": "y"
         }
        }
       }
      }
     },
     "metadata": {},
     "output_type": "display_data"
    },
    {
     "name": "stdout",
     "output_type": "stream",
     "text": [
      "\n",
      "\n",
      "\n",
      "Time with 3 processors: 430.64589190483093 seconds\n",
      "\n",
      "\n",
      "\n",
      "\n",
      "\n",
      "\n",
      "Starting computation with 4 processors...\n",
      "\n",
      "\n",
      "\n"
     ]
    },
    {
     "name": "stderr",
     "output_type": "stream",
     "text": [
      "/Users/jintanoda/Desktop/5011CEM-Big-Data/venv/lib/python3.10/site-packages/distributed/node.py:182: UserWarning:\n",
      "\n",
      "Port 8787 is already in use.\n",
      "Perhaps you already have a cluster running?\n",
      "Hosting the HTTP server on port 57615 instead\n",
      "\n"
     ]
    },
    {
     "ename": "KeyboardInterrupt",
     "evalue": "",
     "output_type": "error",
     "traceback": [
      "\u001b[0;31m---------------------------------------------------------------------------\u001b[0m",
      "\u001b[0;31mKeyboardInterrupt\u001b[0m                         Traceback (most recent call last)",
      "Cell \u001b[0;32mIn[95], line 25\u001b[0m\n\u001b[1;32m     22\u001b[0m         client\u001b[38;5;241m.\u001b[39mclose()\n\u001b[1;32m     23\u001b[0m     \u001b[38;5;28mprint\u001b[39m(\u001b[38;5;124m\"\u001b[39m\u001b[38;5;130;01m\\n\u001b[39;00m\u001b[38;5;130;01m\\n\u001b[39;00m\u001b[38;5;130;01m\\n\u001b[39;00m\u001b[38;5;124m\"\u001b[39m, n_processors_time, \u001b[38;5;124m\"\u001b[39m\u001b[38;5;130;01m\\n\u001b[39;00m\u001b[38;5;130;01m\\n\u001b[39;00m\u001b[38;5;130;01m\\n\u001b[39;00m\u001b[38;5;124m\"\u001b[39m)\n\u001b[0;32m---> 25\u001b[0m \u001b[43mprocessor_time\u001b[49m\u001b[43m(\u001b[49m\u001b[43m)\u001b[49m\n",
      "Cell \u001b[0;32mIn[95], line 12\u001b[0m, in \u001b[0;36mprocessor_time\u001b[0;34m()\u001b[0m\n\u001b[1;32m      9\u001b[0m start \u001b[38;5;241m=\u001b[39m time\u001b[38;5;241m.\u001b[39mtime()\n\u001b[1;32m     11\u001b[0m \u001b[38;5;66;03m# (a) with dask\u001b[39;00m\n\u001b[0;32m---> 12\u001b[0m \u001b[43mplot_avg_people_staying_home\u001b[49m\u001b[43m(\u001b[49m\u001b[43mtrips_by_distance_dask\u001b[49m\u001b[43m,\u001b[49m\u001b[43m \u001b[49m\u001b[38;5;124;43m\"\u001b[39;49m\u001b[38;5;124;43mdd\u001b[39;49m\u001b[38;5;124;43m\"\u001b[39;49m\u001b[43m)\u001b[49m\n\u001b[1;32m     13\u001b[0m plot_how_far_people_travel()\n\u001b[1;32m     14\u001b[0m \u001b[38;5;66;03m# (b) with dask\u001b[39;00m\n",
      "Cell \u001b[0;32mIn[58], line 14\u001b[0m, in \u001b[0;36mplot_avg_people_staying_home\u001b[0;34m(df, df_type)\u001b[0m\n\u001b[1;32m     10\u001b[0m     plt\u001b[38;5;241m.\u001b[39mplot(avg_num_people_staying_home, label\u001b[38;5;241m=\u001b[39m\u001b[38;5;124m'\u001b[39m\u001b[38;5;124mAverage Number of People Staying at Home Per Week\u001b[39m\u001b[38;5;124m'\u001b[39m)\n\u001b[1;32m     13\u001b[0m \u001b[38;5;28;01melif\u001b[39;00m df_type \u001b[38;5;241m==\u001b[39m \u001b[38;5;124m'\u001b[39m\u001b[38;5;124mdd\u001b[39m\u001b[38;5;124m'\u001b[39m:\n\u001b[0;32m---> 14\u001b[0m     \u001b[38;5;28mprint\u001b[39m(\u001b[38;5;124mf\u001b[39m\u001b[38;5;124m\"\u001b[39m\u001b[38;5;124mNumber of weeks \u001b[39m\u001b[38;5;132;01m{\u001b[39;00m\u001b[43mweeks\u001b[49m\u001b[38;5;241;43m.\u001b[39;49m\u001b[43mcompute\u001b[49m\u001b[43m(\u001b[49m\u001b[43m)\u001b[49m\u001b[38;5;132;01m}\u001b[39;00m\u001b[38;5;124m\"\u001b[39m)\n\u001b[1;32m     15\u001b[0m     plt\u001b[38;5;241m.\u001b[39mplot(avg_num_people_staying_home\u001b[38;5;241m.\u001b[39mcompute(), label\u001b[38;5;241m=\u001b[39m\u001b[38;5;124m'\u001b[39m\u001b[38;5;124mAverage Number of People Staying at Home Per Week\u001b[39m\u001b[38;5;124m'\u001b[39m)\n\u001b[1;32m     17\u001b[0m \u001b[38;5;28;01melse\u001b[39;00m:\n",
      "File \u001b[0;32m~/Desktop/5011CEM-Big-Data/venv/lib/python3.10/site-packages/dask/base.py:377\u001b[0m, in \u001b[0;36mDaskMethodsMixin.compute\u001b[0;34m(self, **kwargs)\u001b[0m\n\u001b[1;32m    353\u001b[0m \u001b[38;5;28;01mdef\u001b[39;00m \u001b[38;5;21mcompute\u001b[39m(\u001b[38;5;28mself\u001b[39m, \u001b[38;5;241m*\u001b[39m\u001b[38;5;241m*\u001b[39mkwargs):\n\u001b[1;32m    354\u001b[0m \u001b[38;5;250m    \u001b[39m\u001b[38;5;124;03m\"\"\"Compute this dask collection\u001b[39;00m\n\u001b[1;32m    355\u001b[0m \n\u001b[1;32m    356\u001b[0m \u001b[38;5;124;03m    This turns a lazy Dask collection into its in-memory equivalent.\u001b[39;00m\n\u001b[0;32m   (...)\u001b[0m\n\u001b[1;32m    375\u001b[0m \u001b[38;5;124;03m    dask.compute\u001b[39;00m\n\u001b[1;32m    376\u001b[0m \u001b[38;5;124;03m    \"\"\"\u001b[39;00m\n\u001b[0;32m--> 377\u001b[0m     (result,) \u001b[38;5;241m=\u001b[39m \u001b[43mcompute\u001b[49m\u001b[43m(\u001b[49m\u001b[38;5;28;43mself\u001b[39;49m\u001b[43m,\u001b[49m\u001b[43m \u001b[49m\u001b[43mtraverse\u001b[49m\u001b[38;5;241;43m=\u001b[39;49m\u001b[38;5;28;43;01mFalse\u001b[39;49;00m\u001b[43m,\u001b[49m\u001b[43m \u001b[49m\u001b[38;5;241;43m*\u001b[39;49m\u001b[38;5;241;43m*\u001b[39;49m\u001b[43mkwargs\u001b[49m\u001b[43m)\u001b[49m\n\u001b[1;32m    378\u001b[0m     \u001b[38;5;28;01mreturn\u001b[39;00m result\n",
      "File \u001b[0;32m~/Desktop/5011CEM-Big-Data/venv/lib/python3.10/site-packages/dask/base.py:663\u001b[0m, in \u001b[0;36mcompute\u001b[0;34m(traverse, optimize_graph, scheduler, get, *args, **kwargs)\u001b[0m\n\u001b[1;32m    660\u001b[0m     postcomputes\u001b[38;5;241m.\u001b[39mappend(x\u001b[38;5;241m.\u001b[39m__dask_postcompute__())\n\u001b[1;32m    662\u001b[0m \u001b[38;5;28;01mwith\u001b[39;00m shorten_traceback():\n\u001b[0;32m--> 663\u001b[0m     results \u001b[38;5;241m=\u001b[39m \u001b[43mschedule\u001b[49m\u001b[43m(\u001b[49m\u001b[43mdsk\u001b[49m\u001b[43m,\u001b[49m\u001b[43m \u001b[49m\u001b[43mkeys\u001b[49m\u001b[43m,\u001b[49m\u001b[43m \u001b[49m\u001b[38;5;241;43m*\u001b[39;49m\u001b[38;5;241;43m*\u001b[39;49m\u001b[43mkwargs\u001b[49m\u001b[43m)\u001b[49m\n\u001b[1;32m    665\u001b[0m \u001b[38;5;28;01mreturn\u001b[39;00m repack([f(r, \u001b[38;5;241m*\u001b[39ma) \u001b[38;5;28;01mfor\u001b[39;00m r, (f, a) \u001b[38;5;129;01min\u001b[39;00m \u001b[38;5;28mzip\u001b[39m(results, postcomputes)])\n",
      "File \u001b[0;32m~/.pyenv/versions/3.10.9/lib/python3.10/threading.py:607\u001b[0m, in \u001b[0;36mEvent.wait\u001b[0;34m(self, timeout)\u001b[0m\n\u001b[1;32m    605\u001b[0m signaled \u001b[38;5;241m=\u001b[39m \u001b[38;5;28mself\u001b[39m\u001b[38;5;241m.\u001b[39m_flag\n\u001b[1;32m    606\u001b[0m \u001b[38;5;28;01mif\u001b[39;00m \u001b[38;5;129;01mnot\u001b[39;00m signaled:\n\u001b[0;32m--> 607\u001b[0m     signaled \u001b[38;5;241m=\u001b[39m \u001b[38;5;28;43mself\u001b[39;49m\u001b[38;5;241;43m.\u001b[39;49m\u001b[43m_cond\u001b[49m\u001b[38;5;241;43m.\u001b[39;49m\u001b[43mwait\u001b[49m\u001b[43m(\u001b[49m\u001b[43mtimeout\u001b[49m\u001b[43m)\u001b[49m\n\u001b[1;32m    608\u001b[0m \u001b[38;5;28;01mreturn\u001b[39;00m signaled\n",
      "File \u001b[0;32m~/.pyenv/versions/3.10.9/lib/python3.10/threading.py:324\u001b[0m, in \u001b[0;36mCondition.wait\u001b[0;34m(self, timeout)\u001b[0m\n\u001b[1;32m    322\u001b[0m \u001b[38;5;28;01melse\u001b[39;00m:\n\u001b[1;32m    323\u001b[0m     \u001b[38;5;28;01mif\u001b[39;00m timeout \u001b[38;5;241m>\u001b[39m \u001b[38;5;241m0\u001b[39m:\n\u001b[0;32m--> 324\u001b[0m         gotit \u001b[38;5;241m=\u001b[39m \u001b[43mwaiter\u001b[49m\u001b[38;5;241;43m.\u001b[39;49m\u001b[43macquire\u001b[49m\u001b[43m(\u001b[49m\u001b[38;5;28;43;01mTrue\u001b[39;49;00m\u001b[43m,\u001b[49m\u001b[43m \u001b[49m\u001b[43mtimeout\u001b[49m\u001b[43m)\u001b[49m\n\u001b[1;32m    325\u001b[0m     \u001b[38;5;28;01melse\u001b[39;00m:\n\u001b[1;32m    326\u001b[0m         gotit \u001b[38;5;241m=\u001b[39m waiter\u001b[38;5;241m.\u001b[39macquire(\u001b[38;5;28;01mFalse\u001b[39;00m)\n",
      "\u001b[0;31mKeyboardInterrupt\u001b[0m: "
     ]
    },
    {
     "name": "stderr",
     "output_type": "stream",
     "text": [
      "2024-04-07 22:44:07,634 - tornado.application - ERROR - Exception in callback <bound method SystemMonitor.update of <SystemMonitor: cpu: 9 memory: 12 MB fds: 26>>\n",
      "Traceback (most recent call last):\n",
      "  File \"/Users/jintanoda/Desktop/5011CEM-Big-Data/venv/lib/python3.10/site-packages/tornado/ioloop.py\", line 937, in _run\n",
      "    val = self.callback()\n",
      "  File \"/Users/jintanoda/Desktop/5011CEM-Big-Data/venv/lib/python3.10/site-packages/distributed/system_monitor.py\", line 168, in update\n",
      "    net_ioc = psutil.net_io_counters()\n",
      "  File \"/Users/jintanoda/Desktop/5011CEM-Big-Data/venv/lib/python3.10/site-packages/psutil/__init__.py\", line 2166, in net_io_counters\n",
      "    rawdict = _psplatform.net_io_counters()\n",
      "OSError: [Errno 12] Cannot allocate memory\n"
     ]
    }
   ],
   "source": [
    "# (c)\n",
    "def processor_time():\n",
    "    n_processors = [10, 20]\n",
    "    n_processors_time = {}\n",
    "   \n",
    "    for processor in n_processors:\n",
    "        print(f\"\\n\\n\\nStarting computation with {processor} processors...\\n\\n\\n\")\n",
    "        client = Client(n_workers = processor)\n",
    "        start = time.time()\n",
    "\n",
    "        # (a) with dask\n",
    "        plot_avg_people_staying_home(trips_by_distance_dask, \"dd\")\n",
    "        plot_how_far_people_travel()\n",
    "        # (b) with dask\n",
    "        plot_compare_dates(trips_by_distance_dask, \"dd\")\n",
    "\n",
    "        dask_time = time.time() - start\n",
    "        n_processors_time[processor] = dask_time\n",
    "\n",
    "        print(f\"\\n\\n\\nTime with {processor} processors: {dask_time} seconds\\n\\n\\n\")\n",
    "        client.close()\n",
    "    print(\"\\n\\n\\n\", n_processors_time, \"\\n\\n\\n\")\n",
    "\n",
    "processor_time()"
   ]
  },
  {
   "cell_type": "code",
   "execution_count": 65,
   "metadata": {},
   "outputs": [
    {
     "data": {
      "image/png": "[encoded data removed]",
      "text/plain": [
       "<Figure size 640x480 with 1 Axes>"
      ]
     },
     "metadata": {},
     "output_type": "display_data"
    },
    {
     "name": "stderr",
     "output_type": "stream",
     "text": [
      "2024-04-07 15:31:27,361 - tornado.application - ERROR - Exception in callback <bound method SystemMonitor.update of <SystemMonitor: cpu: 1 memory: 15 MB fds: 26>>\n",
      "Traceback (most recent call last):\n",
      "  File \"/Users/jintanoda/Desktop/5011CEM-Big-Data/venv/lib/python3.10/site-packages/tornado/ioloop.py\", line 937, in _run\n",
      "    val = self.callback()\n",
      "  File \"/Users/jintanoda/Desktop/5011CEM-Big-Data/venv/lib/python3.10/site-packages/distributed/system_monitor.py\", line 168, in update\n",
      "    net_ioc = psutil.net_io_counters()\n",
      "  File \"/Users/jintanoda/Desktop/5011CEM-Big-Data/venv/lib/python3.10/site-packages/psutil/__init__.py\", line 2166, in net_io_counters\n",
      "    rawdict = _psplatform.net_io_counters()\n",
      "OSError: [Errno 12] Cannot allocate memory\n"
     ]
    }
   ],
   "source": [
    "# (e)\n",
    "trips_full['Week of Date'].nunique()\n",
    "\n",
    "cols = [\n",
    "    'Trips <1 Mile',\n",
    "    'Trips 1-3 Miles',\n",
    "    'Trips 3-5 Miles',\n",
    "    'Trips 5-10 Miles',\n",
    "    'Trips 10-25 Miles',\n",
    "    'Trips 25-50 Miles',\n",
    "    'Trips 50-100 Miles',\n",
    "    'Trips 100-250 Miles',\n",
    "    'Trips 250-500 Miles',\n",
    "    'Trips 500+ Miles'\n",
    "]\n",
    "\n",
    "means = []\n",
    "for i in range(len(cols)):\n",
    "    temp = trips_full.groupby(by = 'Week of Date')[cols[i]].mean()\n",
    "    means.append(temp.values[0])\n",
    "\n",
    "plt.bar(cols, means, color='skyblue')\n",
    "plt.title('Mean Values for Different Trip Lengths', fontsize=14, fontweight='bold')\n",
    "plt.xlabel('Trip Lengths', fontsize=12, fontweight='bold')\n",
    "plt.ylabel('Mean Value', fontsize=12, fontweight='bold')\n",
    "plt.xticks(rotation=45, ha='right', fontsize=10)\n",
    "plt.grid(True)\n",
    "plt.tight_layout()\n",
    "plt.show()      \n",
    "plt.close()"
   ]
  },
  {
   "cell_type": "code",
   "execution_count": 22,
   "metadata": {},
   "outputs": [
    {
     "name": "stdout",
     "output_type": "stream",
     "text": [
      "coefficient of determination: 0.3093006198654834\n",
      "intercept: -13449.502049671624\n",
      "coefficients: [0.00092087]\n",
      "predicted response:\n",
      "[4886.82498269 2960.00997896 2620.07870572 2959.51731292 2637.2354549\n",
      " 5421.97263813 6059.36092668]\n",
      "X_train: [[19911937]\n",
      " [17819554]\n",
      " [17450413]\n",
      " [17819019]\n",
      " [17469044]\n",
      " [20493069]]\n",
      "X_test: [[21185227]]\n",
      "RandomForestClassifier(verbose=1)\n",
      "prediction: [5950.]\n"
     ]
    },
    {
     "name": "stderr",
     "output_type": "stream",
     "text": [
      "[Parallel(n_jobs=1)]: Done  49 tasks      | elapsed:    0.1s\n",
      "[Parallel(n_jobs=1)]: Done  49 tasks      | elapsed:    0.0s\n"
     ]
    }
   ],
   "source": [
    "# (d)\n",
    "def linear_model(x,y):\n",
    "    model = LinearRegression().fit(x, y)\n",
    "    r_sq = model.score(x, y)\n",
    "    print(f\"coefficient of determination: {r_sq}\")\n",
    "    print(f\"intercept: {model.intercept_}\")\n",
    "    print(f\"coefficients: {model.coef_}\")\n",
    "    # Model to predict the response\n",
    "    y_pred = model.predict(x)\n",
    "    print(f\"predicted response:\\n{y_pred}\")\n",
    "\n",
    "def model_training(x,y):\n",
    "    X_train, X_test, y_train, y_test = train_test_split(x, y, shuffle=False)\n",
    "    model = RandomForestClassifier(verbose=1)\n",
    "    print(f\"X_train: {X_train}\")\n",
    "    print(f\"X_test: {X_test}\")\n",
    "    print(model.fit(X_train, y_train))\n",
    "    predictions = model.predict(X_test)\n",
    "    print(f\"prediction: {predictions}\")\n",
    "\n",
    "columns = [\n",
    "    'Number of Trips <1',\n",
    "    'Number of Trips 1-3', \n",
    "    'Number of Trips 3-5', \n",
    "    'Number of Trips 5-10',\n",
    "    'Number of Trips 10-25', \n",
    "    'Number of Trips 25-50', \n",
    "    'Number of Trips 50-100',\n",
    "    'Number of Trips 100-250', \n",
    "    'Number of Trips 250-500', \n",
    "    'Number of Trips >=500'\n",
    "]\n",
    "\n",
    "trips_by_distance['Date'] = pd.to_datetime(trips_by_distance['Date'], format='%m/%d/%Y')\n",
    "# week 32 dataframe with columns of number of trips\n",
    "df_week32 = trips_by_distance[(trips_by_distance['Week'] == 32) & (trips_by_distance['Date'].dt.year == 2019)][columns]\n",
    "# Model selection\n",
    "# Predictor variable: length of trip (10-25 Miles)\n",
    "x = trips_full.loc[:,\"Trips 50-100 Miles\"]\n",
    "x = np.array(x).reshape((-1, 1))\n",
    "# Predicted variable: frequency of people to travel\n",
    "y = df_week32.loc[:,\"Number of Trips 50-100\"]\n",
    "y = np.array(y)[:len(x)]\n",
    "\n",
    "linear_model(x, y)\n",
    "model_training(x, y)"
   ]
  },
  {
   "cell_type": "code",
   "execution_count": 17,
   "metadata": {},
   "outputs": [
    {
     "data": {
      "text/plain": [
       "array([[19911937],\n",
       "       [17819554],\n",
       "       [17450413],\n",
       "       [17819019],\n",
       "       [17469044],\n",
       "       [20493069],\n",
       "       [21185227]])"
      ]
     },
     "execution_count": 17,
     "metadata": {},
     "output_type": "execute_result"
    }
   ],
   "source": [
    "x"
   ]
  },
  {
   "cell_type": "code",
   "execution_count": 18,
   "metadata": {},
   "outputs": [
    {
     "data": {
      "text/plain": [
       "array([2148., 2109., 1418., 7083., 1721., 5950., 7116.])"
      ]
     },
     "execution_count": 18,
     "metadata": {},
     "output_type": "execute_result"
    }
   ],
   "source": [
    "y"
   ]
  }
 ],
 "metadata": {
  "kernelspec": {
   "display_name": "venv",
   "language": "python",
   "name": "python3"
  },
  "language_info": {
   "codemirror_mode": {
    "name": "ipython",
    "version": 3
   },
   "file_extension": ".py",
   "mimetype": "text/x-python",
   "name": "python",
   "nbconvert_exporter": "python",
   "pygments_lexer": "ipython3",
   "version": "3.10.9"
  }
 },
 "nbformat": 4,
 "nbformat_minor": 2
}
